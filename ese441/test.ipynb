{
 "metadata": {
  "name": ""
 },
 "nbformat": 3,
 "nbformat_minor": 0,
 "worksheets": [
  {
   "cells": [
    {
     "cell_type": "code",
     "collapsed": false,
     "input": [
      "from model_training.motion_basis_learning import MotionBasisLearner\n",
      "import numpy as np\n",
      "import tensorflow as tf\n",
      "import matplotlib.pyplot as plt\n",
      "\n",
      "import cProfile\n",
      "\n",
      "%matplotlib inline"
     ],
     "language": "python",
     "metadata": {},
     "outputs": [],
     "prompt_number": 1
    },
    {
     "cell_type": "code",
     "collapsed": false,
     "input": [
      "config = {\n",
      "\t'time_length': 600, \n",
      "\t'k': 50, \n",
      "\t'filter_width': 5, \n",
      "\t'pooling_size': 4,\n",
      "\n",
      "\t'accelerometer_restore_path': None,\n",
      "\t'gyroscope_restore_path': None,\n",
      "\t'accelerometer_files': ['data/accelerometer_1.csv', 'data/accelerometer_2.csv'],\n",
      "\t'accelerometer_variable_path': 'variables_saved/accel/variables',\n",
      "\t'accelerometer_summaries_dir': 'summaries/accel',\n",
      "\t'gyroscope_files': ['data/gyroscope_1.csv', 'data/gyroscope_2.csv'],\n",
      "\t'gyroscope_variable_path': 'variables_saved/gyro/variables',\n",
      "\t'gyroscope_summaries_dir': 'summaries/gyro'\n",
      "}\n",
      "\n"
     ],
     "language": "python",
     "metadata": {},
     "outputs": [],
     "prompt_number": 2
    },
    {
     "cell_type": "code",
     "collapsed": false,
     "input": [
      "def get_data(data_raw, start_i, length):\n",
      "\t'''\n",
      "\t@data_raw: array. each element is a string encode comma seperated values.\n",
      "\t   assume each element is x,y,z,time\n",
      "\t@start_i: int.\n",
      "\t@length: int.\n",
      "\t@return: numpy array. shape of (3, config['time_length'])\n",
      "\t'''\n",
      "\tdata = np.ndarray(shape=(3, length))\n",
      "\tfor i in range(length):\n",
      "\t\tline = data_raw[start_i+i]\n",
      "\t\ttokens = line.split(',')\n",
      "\t\tdata[0,i] = float(tokens[0])\n",
      "\t\tdata[1,i] = float(tokens[1])\n",
      "\t\tdata[2,i] = float(tokens[2])\n",
      "\treturn data\n",
      "\n",
      "\n",
      "def get_data_from_files(filename_list, config):\n",
      "\t'''\n",
      "\t@filename_list: list of string. each file csv formatted of \"x,y,z,time\"\n",
      "\t@return: ndarray. shape (n, 3, config['time_length'], 1))\n",
      "\t'''\n",
      "\tdata_is_empty = True\n",
      "\tfor fn in filename_list:\n",
      "\t\tf = open(fn, 'r')\n",
      "\t\tf.readline()\n",
      "\t\tlines = f.read().strip().split('\\n')\n",
      "\t\tf.close()\n",
      "\n",
      "\t\tnumber_seq = len(lines) / config['time_length']\n",
      "\t\tfor i in range(number_seq):\n",
      "\t\t\tdata_i = get_data(lines, i*config['time_length'], config['time_length'])\n",
      "\t\t\tdata_i = np.expand_dims(np.expand_dims(data_i, 0), -1)\n",
      "\t\t\tif data_is_empty:\n",
      "\t\t\t\tdata = data_i\n",
      "\t\t\t\tdata_is_empty = False\n",
      "\t\t\telse:\n",
      "\t\t\t\tdata = np.concatenate((data, data_i), axis=0)\n",
      "\treturn data\n",
      "\n"
     ],
     "language": "python",
     "metadata": {},
     "outputs": [],
     "prompt_number": 3
    },
    {
     "cell_type": "code",
     "collapsed": false,
     "input": [
      "accelerometer_data = get_data_from_files(config['accelerometer_files'], config)\n",
      "gyroscope_data = get_data_from_files(config['gyroscope_files'], config)"
     ],
     "language": "python",
     "metadata": {},
     "outputs": [],
     "prompt_number": 4
    },
    {
     "cell_type": "code",
     "collapsed": false,
     "input": [
      "# init model\n",
      "accel_basis = MotionBasisLearner(k=config['k'], filter_width=config['filter_width'],\n",
      "\t\tpooling_size=config['pooling_size'], save_params_path=config['accelerometer_variable_path'],\n",
      "\t\tsummary_dir=config['accelerometer_summaries_dir'], param_scope_name=config['accelerometer_variable_path'])\n",
      "gyro_basis = MotionBasisLearner(k=config['k'], filter_width=config['filter_width'],\n",
      "\t\tpooling_size=config['pooling_size'], save_params_path=config['gyroscope_variable_path'],\n",
      "\t\tsummary_dir=config['gyroscope_summaries_dir'], param_scope_name=config['gyroscope_variable_path'])\n",
      "\n",
      "# init training\n",
      "summary_flush_secs = 10\n",
      "save_interval = 3\n",
      "accel_basis.build_training_model(accelerometer_data, restore_params_path=config['accelerometer_restore_path'], \n",
      "\t\tsummary_flush_secs=summary_flush_secs, save_interval=save_interval)\n",
      "gyro_basis.build_training_model(gyroscope_data, restore_params_path=config['gyroscope_restore_path'],\n",
      "\t\tsummary_flush_secs=summary_flush_secs, save_interval=save_interval)"
     ],
     "language": "python",
     "metadata": {},
     "outputs": [],
     "prompt_number": 5
    },
    {
     "cell_type": "code",
     "collapsed": false,
     "input": [
      "# start training\n",
      "learning_rate = 0.01\n",
      "steps = 10\n",
      "verbose = True\n",
      "while True:\n",
      "\tif verbose:\n",
      "\t\tprint(\"learning acceleromenter basis:\")\n",
      "\taccel_basis.train(verbose=verbose, steps=steps, learning_rate=learning_rate)\n",
      "\n",
      "\tif verbose:\n",
      "\t\tprint(\"learning gyroscope basis:\")\n",
      "\tgyro_basis.train(verbose=verbose, steps=steps, learning_rate=learning_rate)\n"
     ],
     "language": "python",
     "metadata": {},
     "outputs": [
      {
       "output_type": "stream",
       "stream": "stdout",
       "text": [
        "learning acceleromenter basis:\n",
        "-6960.06,0.423351 at step 0"
       ]
      }
     ],
     "prompt_number": "*"
    }
   ],
   "metadata": {}
  }
 ]
}