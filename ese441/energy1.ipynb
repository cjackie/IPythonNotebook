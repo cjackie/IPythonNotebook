{
 "metadata": {
  "name": ""
 },
 "nbformat": 3,
 "nbformat_minor": 0,
 "worksheets": [
  {
   "cells": [
    {
     "cell_type": "code",
     "collapsed": false,
     "input": [
      "import tensorflow as tf\n",
      "import matplotlib.pyplot as plt\n",
      "import numpy as np\n",
      "\n",
      "import time as time\n",
      "from scipy import stats\n",
      "\n",
      "\n",
      "%matplotlib inline\n",
      "\n",
      "__reuse = False"
     ],
     "language": "python",
     "metadata": {},
     "outputs": [],
     "prompt_number": 1
    },
    {
     "cell_type": "code",
     "collapsed": false,
     "input": [
      "accel_data1 = []\n",
      "accel_file1 = open('data/accelerometer_1.csv', 'r')\n",
      "accel_file1.readline()\n",
      "for line in accel_file1:\n",
      "    accel_data1.append(map(lambda s: float(s), line.split(',')))\n",
      "accel_file1.close()\n",
      "accel_data2 = []\n",
      "accel_file2 = open('data/accelerometer_2.csv', 'r')\n",
      "accel_file2.readline()\n",
      "for line in accel_file2:\n",
      "    accel_data2.append(map(lambda s: float(s), line.split(',')))\n",
      "accel_file2.close()\n",
      "\n",
      "shrink_size = 100\n",
      "accel_data = np.stack([np.transpose(np.array(accel_data1))[0:3,0:shrink_size],\n",
      "                      np.transpose(np.array(accel_data2))[0:3,0:shrink_size]])\n",
      "accel_data = np.expand_dims(accel_data, -1)\n",
      "time_axis = range(shrink_size)\n"
     ],
     "language": "python",
     "metadata": {},
     "outputs": [],
     "prompt_number": 2
    },
    {
     "cell_type": "code",
     "collapsed": false,
     "input": [
      "plt.plot(time_axis, accel_data[0,0,:,0])\n",
      "accel_data.shape"
     ],
     "language": "python",
     "metadata": {},
     "outputs": [
      {
       "metadata": {},
       "output_type": "pyout",
       "prompt_number": 3,
       "text": [
        "(2, 3, 100, 1)"
       ]
      },
      {
       "metadata": {},
       "output_type": "display_data",
       "png": "[encoded data removed]",
       "text": [
        "<matplotlib.figure.Figure at 0x7f6cd80efb10>"
       ]
      }
     ],
     "prompt_number": 3
    },
    {
     "cell_type": "code",
     "collapsed": false,
     "input": [
      "def gen_h(v):\n",
      "    h = np.zeros(h_shape)\n",
      "    convoluted = sess.run(tf.nn.convolution(v, w, 'VALID', strides=[1,1]) + hb)\n",
      "    for batch_i in range(batch_size):\n",
      "        for i in range(convoluted.shape[3]):\n",
      "            for j in range(convoluted.shape[2]/pooling_size):\n",
      "                convoluted_j = convoluted[batch_i,0,j*pooling_size:(j+1)*pooling_size,i]\n",
      "                prob_not_normalized = np.power(np.e, np.concatenate((convoluted_j, [1]), axis=0))\n",
      "                prob = prob_not_normalized / sum(prob_not_normalized)\n",
      "                h_j = stats.rv_discrete(values=(range(len(prob)), prob)).rvs()\n",
      "                if h_j == pooling_size:\n",
      "                    # none of h_real[j*pooling_size:j*(pooling_size+1),i] be 1\n",
      "                    pass\n",
      "                else:\n",
      "                    h[batch_i,j*pooling_size+h_j,i] = 1\n",
      "    return h\n",
      "\n",
      "def gen_v(h):\n",
      "    v = np.zeros(v_shape)\n",
      "    # convolution related to reconstruction\n",
      "    h_rec_in_fitted = tf.expand_dims(tf.expand_dims(h, 1), -1)\n",
      "    h_rec_in_fitted = tf.pad(h_rec_in_fitted, [[0,0],[axis_num-1,axis_num-1],[filter_width-1,filter_width-1],[0,0], [0,0]])\n",
      "    w_r_fitted = tf.expand_dims(tf.expand_dims(tf.squeeze(w_r), -1), -1)\n",
      "    convolution_rec_raw = sess.run(tf.nn.convolution(h_rec_in_fitted, w_r_fitted, 'VALID', strides=[1,1,1]))\n",
      "    convolution_rec_ = convolution_rec_raw[:,:,:,:,0] # same shape as `accel_data`\n",
      "    vb_ = sess.run(vb)\n",
      "    for i0 in range(v_fantasy_in.get_shape()[0]):\n",
      "        for i1 in range(v_fantasy_in.get_shape()[1]):\n",
      "            for i2 in range(v_fantasy_in.get_shape()[2]):\n",
      "                for i3 in range(v_fantasy_in.get_shape()[3]):\n",
      "                    mean = convolution_rec_[i0,i1,i2,i3] + vb_\n",
      "                    v[i0,i1,i2,i3] = stats.norm.rvs(mean,sigma)\n",
      "    return v"
     ],
     "language": "python",
     "metadata": {},
     "outputs": [],
     "prompt_number": 4
    },
    {
     "cell_type": "code",
     "collapsed": false,
     "input": [
      "filter_width = 5\n",
      "pooling_size = 4\n",
      "k = 50\n",
      "batch_size = accel_data.shape[0]\n",
      "v_len = accel_data.shape[2]\n",
      "axis_num = accel_data.shape[1]\n",
      "h_shape = [batch_size, v_len-filter_width+1, k]\n",
      "v_shape = list(accel_data.shape)\n",
      "with tf.variable_scope('crbm') as crbm_scope:\n",
      "    if __reuse:\n",
      "        crbm_scope.reuse_variables()\n",
      "    else:\n",
      "        __reuse = True\n",
      "        \n",
      "    w = tf.get_variable('weights', shape=(axis_num, filter_width, 1, k), dtype=tf.float32, \n",
      "                        initializer=tf.random_normal_initializer())\n",
      "    w_r = tf.reverse_v2(w, [0,1])\n",
      "    hb = tf.get_variable('hidden_biase', shape=(k,), dtype=tf.float32,\n",
      "                         initializer=tf.random_normal_initializer())\n",
      "    vb = tf.get_variable('visible_biase', shape=(1,), dtype=tf.float32,\n",
      "                         initializer=tf.random_normal_initializer())\n",
      "h_real_in = tf.placeholder(tf.float32, shape=[batch_size, v_len-filter_width+1, k]) # after full convolution\n",
      "v_real_in = tf.placeholder(tf.float32, shape=accel_data.shape)\n",
      "convolution_real = tf.nn.convolution(v_real_in, w, 'VALID', strides=[1,1])\n",
      "\n",
      "energy_real = -tf.reduce_sum(h_real_in*convolution_real, axis=[1,2,3]) \\\n",
      "                - tf.reduce_sum(hb*tf.reduce_sum(h_real_in, axis=[1]), axis=[1]) \\\n",
      "                - tf.reduce_sum(vb*tf.reduce_sum(v_real_in, axis=[1,2,3]))\n",
      "    \n",
      "h_fantasy_in = tf.placeholder(tf.float32, shape=[batch_size, v_len-filter_width+1, k]) # after full convolution\n",
      "v_fantasy_in = tf.placeholder(tf.float32, shape=accel_data.shape)\n",
      "convolution_fantasy = tf.nn.convolution(v_fantasy_in, w, 'VALID', strides=[1,1])\n",
      "energy_fantasy = -tf.reduce_sum(h_fantasy_in*convolution_fantasy, axis=[1,2,3]) \\\n",
      "                    - tf.reduce_sum(hb*tf.reduce_sum(h_fantasy_in, axis=[1]), axis=[1]) \\\n",
      "                    - tf.reduce_sum(vb*tf.reduce_sum(v_fantasy_in, axis=[1,2,3]))\n",
      "        \n",
      "# regularization\n",
      "reg = tf.reduce_mean(tf.nn.sigmoid(convolution_real + hb))\n",
      "\n",
      "loss = tf.reduce_mean(energy_real - energy_fantasy) + reg\n",
      "optimizer = tf.train.GradientDescentOptimizer(0.001)\n",
      "training = optimizer.minimize(loss)\n",
      "\n",
      "# convolution related to reconstruction\n",
      "h_rec_in = tf.placeholder(tf.float32, shape=[v_len-filter_width+1, k])\n",
      "h_rec_in_fitted = tf.expand_dims(tf.expand_dims(tf.expand_dims(h_rec_in, 0), 0), -1)\n",
      "h_rec_in_fitted = tf.pad(h_rec_in_fitted, [[0,0],[axis_num-1, axis_num-1],[filter_width-1,filter_width-1],[0,0], [0,0]])\n",
      "w_r_fitted = tf.expand_dims(tf.expand_dims(tf.squeeze(w_r), -1), -1)\n",
      "convolution_rec = tf.nn.convolution(h_rec_in_fitted, w_r_fitted, 'VALID', strides=[1,1,1])\n",
      "\n",
      "sess = tf.Session()\n",
      "sess.run(tf.global_variables_initializer())"
     ],
     "language": "python",
     "metadata": {},
     "outputs": [],
     "prompt_number": 8
    },
    {
     "cell_type": "code",
     "collapsed": false,
     "input": [
      "training_num = 10\n",
      "for _ in range(training_num):\n",
      "    # gibbs sampling\n",
      "    sigma = 2\n",
      "    v_real = accel_data.copy()\n",
      "    h_real = gen_h(tf.convert_to_tensor(v_real, tf.float32))\n",
      "            \n",
      "    v_fantasy = gen_v(tf.convert_to_tensor(h_real, tf.float32))\n",
      "    h_fantasy = gen_h(tf.convert_to_tensor(v_fantasy, tf.float32))\n",
      "\n",
      "    # training\n",
      "    feed_dict={\n",
      "        h_real_in: h_real, \n",
      "        v_real_in: v_real,\n",
      "        h_fantasy_in: h_fantasy,\n",
      "        v_fantasy_in: v_fantasy\n",
      "    }\n",
      "    sess.run(training, feed_dict=feed_dict)\n",
      "    print(str(sess.run(loss, feed_dict=feed_dict)) + ',' + str(sess.run(reg, feed_dict=feed_dict)))\n",
      "\n",
      " \n"
     ],
     "language": "python",
     "metadata": {},
     "outputs": [
      {
       "output_type": "stream",
       "stream": "stdout",
       "text": [
        "39325.0,0.435233\n",
        "25111.1,0.41467"
       ]
      },
      {
       "output_type": "stream",
       "stream": "stdout",
       "text": [
        "\n",
        "17186.6,0.38199"
       ]
      },
      {
       "output_type": "stream",
       "stream": "stdout",
       "text": [
        "\n",
        "10330.9,0.376794"
       ]
      },
      {
       "output_type": "stream",
       "stream": "stdout",
       "text": [
        "\n",
        "9534.41,0.364833"
       ]
      },
      {
       "output_type": "stream",
       "stream": "stdout",
       "text": [
        "\n",
        "5409.41,0.367643"
       ]
      },
      {
       "output_type": "stream",
       "stream": "stdout",
       "text": [
        "\n",
        "7370.59,0.361169"
       ]
      },
      {
       "output_type": "stream",
       "stream": "stdout",
       "text": [
        "\n",
        "5089.02,0.361086"
       ]
      },
      {
       "output_type": "stream",
       "stream": "stdout",
       "text": [
        "\n",
        "3939.23,0.362144"
       ]
      },
      {
       "output_type": "stream",
       "stream": "stdout",
       "text": [
        "\n",
        "3450.55,0.353451"
       ]
      },
      {
       "output_type": "stream",
       "stream": "stdout",
       "text": [
        "\n"
       ]
      }
     ],
     "prompt_number": 9
    },
    {
     "cell_type": "code",
     "collapsed": false,
     "input": [
      "sigma = 0.1\n",
      "\n",
      "d = gen_v(tf.convert_to_tensor(gen_h(tf.convert_to_tensor(accel_data, dtype=tf.float32)), dtype=tf.float32))"
     ],
     "language": "python",
     "metadata": {},
     "outputs": [
      {
       "ename": "NameError",
       "evalue": "name 'gen_v' is not defined",
       "output_type": "pyerr",
       "traceback": [
        "\u001b[0;31m---------------------------------------------------------------------------\u001b[0m\n\u001b[0;31mNameError\u001b[0m                                 Traceback (most recent call last)",
        "\u001b[0;32m<ipython-input-8-b71984777b63>\u001b[0m in \u001b[0;36m<module>\u001b[0;34m()\u001b[0m\n\u001b[1;32m      1\u001b[0m \u001b[0msigma\u001b[0m \u001b[0;34m=\u001b[0m \u001b[0;36m0.1\u001b[0m\u001b[0;34m\u001b[0m\u001b[0m\n\u001b[1;32m      2\u001b[0m \u001b[0;34m\u001b[0m\u001b[0m\n\u001b[0;32m----> 3\u001b[0;31m \u001b[0md\u001b[0m \u001b[0;34m=\u001b[0m \u001b[0mgen_v\u001b[0m\u001b[0;34m(\u001b[0m\u001b[0mtf\u001b[0m\u001b[0;34m.\u001b[0m\u001b[0mconvert_to_tensor\u001b[0m\u001b[0;34m(\u001b[0m\u001b[0mgen_h\u001b[0m\u001b[0;34m(\u001b[0m\u001b[0mtf\u001b[0m\u001b[0;34m.\u001b[0m\u001b[0mconvert_to_tensor\u001b[0m\u001b[0;34m(\u001b[0m\u001b[0maccel_data\u001b[0m\u001b[0;34m,\u001b[0m \u001b[0mdtype\u001b[0m\u001b[0;34m=\u001b[0m\u001b[0mtf\u001b[0m\u001b[0;34m.\u001b[0m\u001b[0mfloat32\u001b[0m\u001b[0;34m)\u001b[0m\u001b[0;34m)\u001b[0m\u001b[0;34m,\u001b[0m \u001b[0mdtype\u001b[0m\u001b[0;34m=\u001b[0m\u001b[0mtf\u001b[0m\u001b[0;34m.\u001b[0m\u001b[0mfloat32\u001b[0m\u001b[0;34m)\u001b[0m\u001b[0;34m)\u001b[0m\u001b[0;34m\u001b[0m\u001b[0m\n\u001b[0m",
        "\u001b[0;31mNameError\u001b[0m: name 'gen_v' is not defined"
       ]
      }
     ],
     "prompt_number": 8
    },
    {
     "cell_type": "code",
     "collapsed": false,
     "input": [
      "plt.plot(time_axis, d[0,1,:,0])\n",
      "plt.plot(time_axis, accel_data[0,1,:,0])"
     ],
     "language": "python",
     "metadata": {},
     "outputs": [
      {
       "metadata": {},
       "output_type": "pyout",
       "prompt_number": 17,
       "text": [
        "[<matplotlib.lines.Line2D at 0x7f79e70bd410>]"
       ]
      },
      {
       "metadata": {},
       "output_type": "display_data",
       "png": "[encoded data removed]",
       "text": [
        "<matplotlib.figure.Figure at 0x7f79e736f610>"
       ]
      }
     ],
     "prompt_number": 17
    },
    {
     "cell_type": "code",
     "collapsed": false,
     "input": [
      "convoluted = sess.run(tf.nn.convolution(tf.convert_to_tensor(accel_data, tf.float32), w, 'VALID', strides=[1,1]) + hb)\n",
      "convoluted.shape"
     ],
     "language": "python",
     "metadata": {},
     "outputs": [
      {
       "metadata": {},
       "output_type": "pyout",
       "prompt_number": 14,
       "text": [
        "(2, 1, 96, 50)"
       ]
      }
     ],
     "prompt_number": 14
    }
   ],
   "metadata": {}
  }
 ]
}