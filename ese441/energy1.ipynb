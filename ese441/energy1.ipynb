{
 "metadata": {
  "name": ""
 },
 "nbformat": 3,
 "nbformat_minor": 0,
 "worksheets": [
  {
   "cells": [
    {
     "cell_type": "code",
     "collapsed": false,
     "input": [
      "import tensorflow as tf\n",
      "import matplotlib.pyplot as plt\n",
      "import numpy as np\n",
      "\n",
      "import time as time\n",
      "from scipy import stats\n",
      "\n",
      "%matplotlib inline\n",
      "\n",
      "__reuse = False"
     ],
     "language": "python",
     "metadata": {},
     "outputs": [],
     "prompt_number": 1
    },
    {
     "cell_type": "code",
     "collapsed": false,
     "input": [
      "accel_data = []\n",
      "accel_file = open('data/accelerometer_1.csv', 'r')\n",
      "accel_file.readline()\n",
      "for line in accel_file:\n",
      "    accel_data.append(map(lambda s: float(s), line.split(',')))\n",
      "accel_file.close()\n",
      "accel_raw = np.array(accel_data)[0:100, :] # shrink data for faster prototype\n",
      "time_axis = np.transpose(accel_raw)[3, :]\n",
      "accel_data = np.transpose(accel_raw)[0:3, :]\n",
      "accel_data = np.expand_dims(np.expand_dims(accel_data, 0), 3)\n"
     ],
     "language": "python",
     "metadata": {},
     "outputs": [],
     "prompt_number": 2
    },
    {
     "cell_type": "code",
     "collapsed": false,
     "input": [
      "plt.plot(time_axis, accel_data[0,0,:,0])\n",
      "accel_data.shape"
     ],
     "language": "python",
     "metadata": {},
     "outputs": [
      {
       "metadata": {},
       "output_type": "pyout",
       "prompt_number": 3,
       "text": [
        "(1, 3, 100, 1)"
       ]
      },
      {
       "metadata": {},
       "output_type": "display_data",
       "png": "[encoded data removed]",
       "text": [
        "<matplotlib.figure.Figure at 0x7fc695429ad0>"
       ]
      }
     ],
     "prompt_number": 3
    },
    {
     "cell_type": "code",
     "collapsed": false,
     "input": [
      "def gen_h(v):\n",
      "    h = np.zeros(h_shape)\n",
      "    convoluted = sess.run(tf.nn.convolution(v, w, 'VALID', strides=[1,1]) + hb)\n",
      "    for i in range(convoluted.shape[3]):\n",
      "        for j in range(convoluted.shape[2]/pooling_size):\n",
      "            convoluted_j = convoluted[0,0,j*pooling_size:(j+1)*pooling_size,i]\n",
      "            prob_not_normalized = np.power(np.e, np.concatenate((convoluted_j, [1]), axis=0))\n",
      "            prob = prob_not_normalized / sum(prob_not_normalized)\n",
      "            h_j = stats.rv_discrete(values=(range(len(prob)), prob)).rvs()\n",
      "            if h_j == pooling_size:\n",
      "                # none of h_real[j*pooling_size:j*(pooling_size+1),i] be 1\n",
      "                pass\n",
      "            else:\n",
      "                h[j*pooling_size+h_j,i] = 1\n",
      "    return h\n",
      "\n",
      "def gen_v(h):\n",
      "    v = np.zeros(v_shape)\n",
      "    # convolution related to reconstruction\n",
      "    h_rec_in_fitted = tf.expand_dims(tf.expand_dims(tf.expand_dims(h, 0), 0), -1)\n",
      "    h_rec_in_fitted = tf.pad(h_rec_in_fitted, [[0,0],[axis_num-1, axis_num-1],[filter_width-1,filter_width-1],[0,0], [0,0]])\n",
      "    w_r_fitted = tf.expand_dims(tf.expand_dims(tf.squeeze(w_r), -1), -1)\n",
      "    convolution_rec_raw = sess.run(tf.nn.convolution(h_rec_in_fitted, w_r_fitted, 'VALID', strides=[1,1,1]))\n",
      "    convolution_rec_ = convolution_rec_raw[:,:,:,:,0] # same shape as `accel_data`\n",
      "    vb_ = sess.run(vb)\n",
      "    for i0 in range(v_fantasy_in.get_shape()[0]):\n",
      "        for i1 in range(v_fantasy_in.get_shape()[1]):\n",
      "            for i2 in range(v_fantasy_in.get_shape()[2]):\n",
      "                for i3 in range(v_fantasy_in.get_shape()[3]):\n",
      "                    mean = convolution_rec_[i0,i1,i2,i3] + vb_\n",
      "                    v[i0,i1,i2,i3] = stats.norm.rvs(mean,sigma)\n",
      "    return v"
     ],
     "language": "python",
     "metadata": {},
     "outputs": [],
     "prompt_number": 4
    },
    {
     "cell_type": "code",
     "collapsed": false,
     "input": [
      "filter_width = 5\n",
      "k = 50\n",
      "v_len = accel_data.shape[2]\n",
      "axis_num = accel_data.shape[1]\n",
      "h_shape = [v_len-filter_width+1, k]\n",
      "v_shape = list(accel_data.shape)\n",
      "with tf.variable_scope('crbm') as crbm_scope:\n",
      "    if __reuse:\n",
      "        crbm_scope.reuse_variables()\n",
      "    else:\n",
      "        __reuse = True\n",
      "        \n",
      "    w = tf.get_variable('weights', shape=(3, filter_width, 1, k), dtype=tf.float32, \n",
      "                        initializer=tf.random_normal_initializer())\n",
      "    w_r = tf.reverse_v2(w, [0,1])\n",
      "    hb = tf.get_variable('hidden_biase', shape=(k,), dtype=tf.float32,\n",
      "                         initializer=tf.random_normal_initializer())\n",
      "    vb = tf.get_variable('visible_biase', shape=(1,), dtype=tf.float32,\n",
      "                         initializer=tf.random_normal_initializer())\n",
      "h_real_in = tf.placeholder(tf.float32, shape=[v_len-filter_width+1, k]) # after full convolution\n",
      "v_real_in = tf.placeholder(tf.float32, shape=accel_data.shape)\n",
      "convolution_real = tf.nn.convolution(v_real_in, w, 'VALID', strides=[1,1])\n",
      "energy_real = -tf.reduce_sum(h_real_in*convolution_real[0,0,:,:]) \\\n",
      "                - tf.reduce_sum(hb*tf.reduce_sum(h_real_in, axis=0)) \\\n",
      "                - tf.reduce_sum(vb*tf.reduce_sum(v_real_in, axis=0))\n",
      "    \n",
      "h_fantasy_in = tf.placeholder(tf.float32, shape=[v_len-filter_width+1, k]) # after full convolution\n",
      "v_fantasy_in = tf.placeholder(tf.float32, shape=accel_data.shape)\n",
      "convolution_fantasy = tf.nn.convolution(v_fantasy_in, w, 'VALID', strides=[1,1])\n",
      "energy_fantasy = -tf.reduce_sum(h_fantasy_in*convolution_fantasy[0,0,:,:]) \\\n",
      "                    - tf.reduce_sum(hb*tf.reduce_sum(h_fantasy_in, axis=0)) \\\n",
      "                    - tf.reduce_sum(vb*tf.reduce_sum(v_fantasy_in, axis=0))\n",
      "    \n",
      "loss = tf.reduce_mean(energy_real - energy_fantasy)\n",
      "optimizer = tf.train.GradientDescentOptimizer(0.001)\n",
      "training = optimizer.minimize(loss)\n",
      "\n",
      "# convolution related to reconstruction\n",
      "h_rec_in = tf.placeholder(tf.float32, shape=[v_len-filter_width+1, k])\n",
      "h_rec_in_fitted = tf.expand_dims(tf.expand_dims(tf.expand_dims(h_rec_in, 0), 0), -1)\n",
      "h_rec_in_fitted = tf.pad(h_rec_in_fitted, [[0,0],[axis_num-1, axis_num-1],[filter_width-1,filter_width-1],[0,0], [0,0]])\n",
      "w_r_fitted = tf.expand_dims(tf.expand_dims(tf.squeeze(w_r), -1), -1)\n",
      "convolution_rec = tf.nn.convolution(h_rec_in_fitted, w_r_fitted, 'VALID', strides=[1,1,1])\n",
      "\n",
      "sess = tf.Session()\n",
      "sess.run(tf.global_variables_initializer())"
     ],
     "language": "python",
     "metadata": {},
     "outputs": [],
     "prompt_number": 5
    },
    {
     "cell_type": "code",
     "collapsed": false,
     "input": [
      "training_num = 100\n",
      "for _ in range(training_num):\n",
      "    # gibbs sampling\n",
      "    sigma = 2\n",
      "    pooling_size = 4\n",
      "    v_real = accel_data.copy()\n",
      "    h_real = np.zeros(h_fantasy_in.get_shape().as_list())\n",
      "    convoluted = sess.run(convolution_real+hb, feed_dict={ v_real_in: v_real })\n",
      "    for i in range(convoluted.shape[3]):\n",
      "        for j in range(convoluted.shape[2]/pooling_size):\n",
      "            convoluted_j = convoluted[0,0,j*pooling_size:(j+1)*pooling_size,i]\n",
      "            prob_not_normalized = np.power(np.e, np.concatenate((convoluted_j, [1]), axis=0))\n",
      "            prob = prob_not_normalized / sum(prob_not_normalized)\n",
      "            h_j = stats.rv_discrete(values=(range(len(prob)), prob)).rvs()\n",
      "            if h_j == pooling_size:\n",
      "                # none of h_real[j*pooling_size:j*(pooling_size+1),i] be 1\n",
      "                pass\n",
      "            else:\n",
      "                h_real[j*pooling_size+h_j,i] = 1\n",
      "            \n",
      "    v_fantasy = np.zeros(v_fantasy_in.get_shape().as_list())\n",
      "    #convolution related to reconstruction\n",
      "    convolution_rec_raw = sess.run(convolution_rec, feed_dict={h_rec_in: h_real})\n",
      "    convolution_rec_ = convolution_rec_raw[:,:,:,:,0] # same shape as `accel_data`\n",
      "    for i0 in range(v_fantasy_in.get_shape()[0]):\n",
      "        for i1 in range(v_fantasy_in.get_shape()[1]):\n",
      "            for i2 in range(v_fantasy_in.get_shape()[2]):\n",
      "                for i3 in range(v_fantasy_in.get_shape()[3]):\n",
      "                    mean = convolution_rec_[i0,i1,i2,i3] + sess.run(vb)\n",
      "                    v_fantasy[i0,i1,i2,i3] = stats.norm.rvs(mean,sigma)\n",
      "    h_fantasy = gen_h(tf.convert_to_tensor(v_fantasy, tf.float32))\n",
      "\n",
      "\n",
      "    # training\n",
      "    feed_dict={\n",
      "        h_real_in: h_real, \n",
      "        v_real_in: v_real,\n",
      "        h_fantasy_in: h_fantasy,\n",
      "        v_fantasy_in: v_fantasy\n",
      "    }\n",
      "    sess.run(training, feed_dict=feed_dict)\n",
      "    print(sess.run(loss, feed_dict=feed_dict))\n",
      "\n",
      " \n"
     ],
     "language": "python",
     "metadata": {},
     "outputs": [
      {
       "output_type": "stream",
       "stream": "stdout",
       "text": [
        "31698.1\n",
        "22559.4"
       ]
      },
      {
       "output_type": "stream",
       "stream": "stdout",
       "text": [
        "\n",
        "17311.2"
       ]
      },
      {
       "output_type": "stream",
       "stream": "stdout",
       "text": [
        "\n",
        "14936.7"
       ]
      },
      {
       "output_type": "stream",
       "stream": "stdout",
       "text": [
        "\n",
        "10993.5"
       ]
      },
      {
       "output_type": "stream",
       "stream": "stdout",
       "text": [
        "\n",
        "9818.62"
       ]
      },
      {
       "output_type": "stream",
       "stream": "stdout",
       "text": [
        "\n",
        "8073.83"
       ]
      },
      {
       "output_type": "stream",
       "stream": "stdout",
       "text": [
        "\n",
        "7292.1"
       ]
      },
      {
       "output_type": "stream",
       "stream": "stdout",
       "text": [
        "\n",
        "6106.54"
       ]
      },
      {
       "output_type": "stream",
       "stream": "stdout",
       "text": [
        "\n",
        "5509.85"
       ]
      },
      {
       "output_type": "stream",
       "stream": "stdout",
       "text": [
        "\n",
        "5237.96"
       ]
      },
      {
       "output_type": "stream",
       "stream": "stdout",
       "text": [
        "\n",
        "4592.12"
       ]
      },
      {
       "output_type": "stream",
       "stream": "stdout",
       "text": [
        "\n",
        "3633.16"
       ]
      },
      {
       "output_type": "stream",
       "stream": "stdout",
       "text": [
        "\n",
        "3820.59"
       ]
      },
      {
       "output_type": "stream",
       "stream": "stdout",
       "text": [
        "\n",
        "3135.02"
       ]
      },
      {
       "output_type": "stream",
       "stream": "stdout",
       "text": [
        "\n",
        "3053.12"
       ]
      },
      {
       "output_type": "stream",
       "stream": "stdout",
       "text": [
        "\n",
        "2735.18"
       ]
      },
      {
       "output_type": "stream",
       "stream": "stdout",
       "text": [
        "\n",
        "3067.25"
       ]
      },
      {
       "output_type": "stream",
       "stream": "stdout",
       "text": [
        "\n",
        "2521.07"
       ]
      },
      {
       "output_type": "stream",
       "stream": "stdout",
       "text": [
        "\n",
        "2367.06"
       ]
      },
      {
       "output_type": "stream",
       "stream": "stdout",
       "text": [
        "\n",
        "2661.48"
       ]
      },
      {
       "output_type": "stream",
       "stream": "stdout",
       "text": [
        "\n",
        "1696.14"
       ]
      },
      {
       "output_type": "stream",
       "stream": "stdout",
       "text": [
        "\n",
        "1699.0"
       ]
      },
      {
       "output_type": "stream",
       "stream": "stdout",
       "text": [
        "\n",
        "1860.1"
       ]
      },
      {
       "output_type": "stream",
       "stream": "stdout",
       "text": [
        "\n",
        "1674.43"
       ]
      },
      {
       "output_type": "stream",
       "stream": "stdout",
       "text": [
        "\n",
        "1652.07"
       ]
      },
      {
       "output_type": "stream",
       "stream": "stdout",
       "text": [
        "\n",
        "2061.87"
       ]
      },
      {
       "output_type": "stream",
       "stream": "stdout",
       "text": [
        "\n",
        "1330.28"
       ]
      },
      {
       "output_type": "stream",
       "stream": "stdout",
       "text": [
        "\n",
        "1595.12"
       ]
      },
      {
       "output_type": "stream",
       "stream": "stdout",
       "text": [
        "\n",
        "1091.11"
       ]
      },
      {
       "output_type": "stream",
       "stream": "stdout",
       "text": [
        "\n",
        "1643.42"
       ]
      },
      {
       "output_type": "stream",
       "stream": "stdout",
       "text": [
        "\n",
        "1249.08"
       ]
      },
      {
       "output_type": "stream",
       "stream": "stdout",
       "text": [
        "\n",
        "950.223"
       ]
      },
      {
       "output_type": "stream",
       "stream": "stdout",
       "text": [
        "\n",
        "1641.09"
       ]
      },
      {
       "output_type": "stream",
       "stream": "stdout",
       "text": [
        "\n",
        "1371.89"
       ]
      },
      {
       "output_type": "stream",
       "stream": "stdout",
       "text": [
        "\n",
        "868.064"
       ]
      },
      {
       "output_type": "stream",
       "stream": "stdout",
       "text": [
        "\n",
        "922.182"
       ]
      },
      {
       "output_type": "stream",
       "stream": "stdout",
       "text": [
        "\n",
        "973.413"
       ]
      },
      {
       "output_type": "stream",
       "stream": "stdout",
       "text": [
        "\n",
        "775.393"
       ]
      },
      {
       "output_type": "stream",
       "stream": "stdout",
       "text": [
        "\n",
        "921.678"
       ]
      },
      {
       "output_type": "stream",
       "stream": "stdout",
       "text": [
        "\n",
        "621.376"
       ]
      },
      {
       "output_type": "stream",
       "stream": "stdout",
       "text": [
        "\n",
        "1088.91"
       ]
      },
      {
       "output_type": "stream",
       "stream": "stdout",
       "text": [
        "\n",
        "601.986"
       ]
      },
      {
       "output_type": "stream",
       "stream": "stdout",
       "text": [
        "\n",
        "826.024"
       ]
      },
      {
       "output_type": "stream",
       "stream": "stdout",
       "text": [
        "\n",
        "1007.69"
       ]
      },
      {
       "output_type": "stream",
       "stream": "stdout",
       "text": [
        "\n",
        "372.387"
       ]
      },
      {
       "output_type": "stream",
       "stream": "stdout",
       "text": [
        "\n",
        "273.2"
       ]
      },
      {
       "output_type": "stream",
       "stream": "stdout",
       "text": [
        "\n",
        "1199.35"
       ]
      },
      {
       "output_type": "stream",
       "stream": "stdout",
       "text": [
        "\n",
        "272.319"
       ]
      },
      {
       "output_type": "stream",
       "stream": "stdout",
       "text": [
        "\n",
        "667.851"
       ]
      },
      {
       "output_type": "stream",
       "stream": "stdout",
       "text": [
        "\n",
        "597.277"
       ]
      },
      {
       "output_type": "stream",
       "stream": "stdout",
       "text": [
        "\n",
        "468.176"
       ]
      },
      {
       "output_type": "stream",
       "stream": "stdout",
       "text": [
        "\n",
        "651.695"
       ]
      },
      {
       "output_type": "stream",
       "stream": "stdout",
       "text": [
        "\n",
        "501.964"
       ]
      },
      {
       "output_type": "stream",
       "stream": "stdout",
       "text": [
        "\n",
        "381.571"
       ]
      },
      {
       "output_type": "stream",
       "stream": "stdout",
       "text": [
        "\n",
        "-195.97"
       ]
      },
      {
       "output_type": "stream",
       "stream": "stdout",
       "text": [
        "\n",
        "420.292"
       ]
      },
      {
       "output_type": "stream",
       "stream": "stdout",
       "text": [
        "\n",
        "442.868"
       ]
      },
      {
       "output_type": "stream",
       "stream": "stdout",
       "text": [
        "\n",
        "479.212"
       ]
      },
      {
       "output_type": "stream",
       "stream": "stdout",
       "text": [
        "\n",
        "111.291"
       ]
      },
      {
       "output_type": "stream",
       "stream": "stdout",
       "text": [
        "\n",
        "913.616"
       ]
      },
      {
       "output_type": "stream",
       "stream": "stdout",
       "text": [
        "\n",
        "762.016"
       ]
      },
      {
       "output_type": "stream",
       "stream": "stdout",
       "text": [
        "\n",
        "186.589"
       ]
      },
      {
       "output_type": "stream",
       "stream": "stdout",
       "text": [
        "\n",
        "496.16"
       ]
      },
      {
       "output_type": "stream",
       "stream": "stdout",
       "text": [
        "\n",
        "76.5938"
       ]
      },
      {
       "output_type": "stream",
       "stream": "stdout",
       "text": [
        "\n",
        "383.9"
       ]
      },
      {
       "output_type": "stream",
       "stream": "stdout",
       "text": [
        "\n",
        "579.592"
       ]
      },
      {
       "output_type": "stream",
       "stream": "stdout",
       "text": [
        "\n",
        "329.624"
       ]
      },
      {
       "output_type": "stream",
       "stream": "stdout",
       "text": [
        "\n",
        "-63.3447"
       ]
      },
      {
       "output_type": "stream",
       "stream": "stdout",
       "text": [
        "\n",
        "22.7861"
       ]
      },
      {
       "output_type": "stream",
       "stream": "stdout",
       "text": [
        "\n",
        "152.32"
       ]
      },
      {
       "output_type": "stream",
       "stream": "stdout",
       "text": [
        "\n",
        "471.688"
       ]
      },
      {
       "output_type": "stream",
       "stream": "stdout",
       "text": [
        "\n",
        "271.834"
       ]
      },
      {
       "output_type": "stream",
       "stream": "stdout",
       "text": [
        "\n",
        "297.746"
       ]
      },
      {
       "output_type": "stream",
       "stream": "stdout",
       "text": [
        "\n",
        "328.758"
       ]
      },
      {
       "output_type": "stream",
       "stream": "stdout",
       "text": [
        "\n",
        "152.601"
       ]
      },
      {
       "output_type": "stream",
       "stream": "stdout",
       "text": [
        "\n",
        "580.013"
       ]
      },
      {
       "output_type": "stream",
       "stream": "stdout",
       "text": [
        "\n",
        "-13.5879"
       ]
      },
      {
       "output_type": "stream",
       "stream": "stdout",
       "text": [
        "\n",
        "-143.833"
       ]
      },
      {
       "output_type": "stream",
       "stream": "stdout",
       "text": [
        "\n",
        "390.838"
       ]
      },
      {
       "output_type": "stream",
       "stream": "stdout",
       "text": [
        "\n",
        "411.959"
       ]
      },
      {
       "output_type": "stream",
       "stream": "stdout",
       "text": [
        "\n",
        "421.862"
       ]
      },
      {
       "output_type": "stream",
       "stream": "stdout",
       "text": [
        "\n",
        "-44.3379"
       ]
      },
      {
       "output_type": "stream",
       "stream": "stdout",
       "text": [
        "\n",
        "431.226"
       ]
      },
      {
       "output_type": "stream",
       "stream": "stdout",
       "text": [
        "\n",
        "101.63"
       ]
      },
      {
       "output_type": "stream",
       "stream": "stdout",
       "text": [
        "\n",
        "418.187"
       ]
      },
      {
       "output_type": "stream",
       "stream": "stdout",
       "text": [
        "\n",
        "-34.3008"
       ]
      },
      {
       "output_type": "stream",
       "stream": "stdout",
       "text": [
        "\n",
        "-195.177"
       ]
      },
      {
       "output_type": "stream",
       "stream": "stdout",
       "text": [
        "\n",
        "295.301"
       ]
      },
      {
       "output_type": "stream",
       "stream": "stdout",
       "text": [
        "\n",
        "193.362"
       ]
      },
      {
       "output_type": "stream",
       "stream": "stdout",
       "text": [
        "\n",
        "-17.4033"
       ]
      },
      {
       "output_type": "stream",
       "stream": "stdout",
       "text": [
        "\n",
        "155.603"
       ]
      },
      {
       "output_type": "stream",
       "stream": "stdout",
       "text": [
        "\n",
        "202.371"
       ]
      },
      {
       "output_type": "stream",
       "stream": "stdout",
       "text": [
        "\n",
        "123.319"
       ]
      },
      {
       "output_type": "stream",
       "stream": "stdout",
       "text": [
        "\n",
        "401.309"
       ]
      },
      {
       "output_type": "stream",
       "stream": "stdout",
       "text": [
        "\n",
        "-163.429"
       ]
      },
      {
       "output_type": "stream",
       "stream": "stdout",
       "text": [
        "\n",
        "234.329"
       ]
      },
      {
       "output_type": "stream",
       "stream": "stdout",
       "text": [
        "\n",
        "188.339"
       ]
      },
      {
       "output_type": "stream",
       "stream": "stdout",
       "text": [
        "\n",
        "218.986"
       ]
      },
      {
       "output_type": "stream",
       "stream": "stdout",
       "text": [
        "\n",
        "111.267"
       ]
      },
      {
       "output_type": "stream",
       "stream": "stdout",
       "text": [
        "\n"
       ]
      }
     ],
     "prompt_number": 6
    },
    {
     "cell_type": "code",
     "collapsed": false,
     "input": [
      "#convolution related to reconstruction\n",
      "h_rec_in = tf.placeholder(tf.float32, shape=[v_len-filter_width+1, k])\n",
      "h_rec_in_fitted = tf.expand_dims(tf.expand_dims(tf.expand_dims(h_rec_in, 0), 0), -1)\n",
      "h_rec_in_fitted = tf.pad(h_rec_in_fitted, [[0,0],[axis_num-1, axis_num-1],[filter_width-1,filter_width-1],[0,0], [0,0]])\n",
      "w_r_fitted = tf.expand_dims(tf.expand_dims(tf.squeeze(w_r), -1), -1)\n",
      "convolution_rec_raw = tf.nn.convolution(h_rec_in_fitted, w_r_fitted, 'VALID', strides=[1,1,1])\n",
      "convolution_rec = convolution_rec_raw[:,:,:,:,0]"
     ],
     "language": "python",
     "metadata": {},
     "outputs": [],
     "prompt_number": 154
    },
    {
     "cell_type": "code",
     "collapsed": false,
     "input": [
      "\n",
      "\n",
      "d = gen_v(tf.convert_to_tensor(gen_h(tf.convert_to_tensor(accel_data, dtype=tf.float32)), dtype=tf.float32))"
     ],
     "language": "python",
     "metadata": {},
     "outputs": [],
     "prompt_number": 16
    },
    {
     "cell_type": "code",
     "collapsed": false,
     "input": [
      "plt.plot(time_axis, d[0,0,:,0])\n",
      "plt.plot(time_axis, accel_data[0,0,:,0])\n",
      "# print(sess.run(w))"
     ],
     "language": "python",
     "metadata": {},
     "outputs": [
      {
       "metadata": {},
       "output_type": "pyout",
       "prompt_number": 21,
       "text": [
        "[<matplotlib.lines.Line2D at 0x7fc665632890>]"
       ]
      },
      {
       "metadata": {},
       "output_type": "display_data",
       "png": "[encoded data removed]",
       "text": [
        "<matplotlib.figure.Figure at 0x7fc665803fd0>"
       ]
      }
     ],
     "prompt_number": 21
    }
   ],
   "metadata": {}
  }
 ]
}