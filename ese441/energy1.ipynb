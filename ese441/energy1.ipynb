{
 "metadata": {
  "name": ""
 },
 "nbformat": 3,
 "nbformat_minor": 0,
 "worksheets": [
  {
   "cells": [
    {
     "cell_type": "code",
     "collapsed": false,
     "input": [
      "import tensorflow as tf\n",
      "import matplotlib.pyplot as plt\n",
      "import numpy as np\n",
      "\n",
      "import time as time\n",
      "\n",
      "%matplotlib inline"
     ],
     "language": "python",
     "metadata": {},
     "outputs": [],
     "prompt_number": 1
    },
    {
     "cell_type": "code",
     "collapsed": false,
     "input": [
      "accel_data = []\n",
      "accel_file = open('data/accelerometer_1.csv', 'r')\n",
      "accel_file.readline()\n",
      "for line in accel_file:\n",
      "    accel_data.append(map(lambda s: float(s), line.split(',')))\n",
      "accel_file.close()\n",
      "accel_raw = np.array(accel_data)\n",
      "time_axis = np.transpose(accel_raw)[3, :]\n",
      "accel_data = np.transpose(accel_raw)[0:3, :]\n",
      "accel_data = np.expand_dims(np.expand_dims(accel_data, 0), 3)\n"
     ],
     "language": "python",
     "metadata": {},
     "outputs": [],
     "prompt_number": 2
    },
    {
     "cell_type": "code",
     "collapsed": false,
     "input": [
      "plt.plot(time_axis, accel_data[0,0,:,0])\n",
      "accel_data.shape"
     ],
     "language": "python",
     "metadata": {},
     "outputs": [
      {
       "metadata": {},
       "output_type": "pyout",
       "prompt_number": 3,
       "text": [
        "(1, 3, 14142, 1)"
       ]
      },
      {
       "metadata": {},
       "output_type": "display_data",
       "png": "[encoded data removed]",
       "text": [
        "<matplotlib.figure.Figure at 0x7fcad43f7690>"
       ]
      }
     ],
     "prompt_number": 3
    },
    {
     "cell_type": "code",
     "collapsed": false,
     "input": [
      "filter_width = 5\n",
      "v_len = accel_data.shape[2]\n",
      "axis_num = accel_data.shape[1]\n",
      "with tf.variable_scope('crbm') as crbm_scope:\n",
      "#     crbm_scope.reuse_variables()\n",
      "    w = tf.get_variable('weights', shape=(3, filter_width, 1, 1), dtype=tf.float32, \n",
      "                        initializer=tf.random_normal_initializer())\n",
      "    hb = tf.get_variable('hidden_biase', shape=(1,), dtype=tf.float32,\n",
      "                         initializer=tf.random_normal_initializer())\n",
      "    vb = tf.get_variable('visible_biase', shape=(1,), dtype=tf.float32,\n",
      "                         initializer=tf.random_normal_initializer())\n",
      "h_in = tf.placeholder(tf.float32, shape=[v_len-filter_width+1]) # after full convolution\n",
      "v_in = tf.placeholder(tf.float32, shape=accel_data.shape)\n",
      "\n",
      "convolution = h_in*tf.nn.convolution(v_in, w, 'VALID', strides=[1,1])\n",
      "energy = -tf.reduce_sum(h_in*convolution[0,0,:,0])  \\\n",
      "            - hb*tf.reduce_sum(h_in), vb*tf.reduce_sum(v_in)\n",
      "    \n",
      "optimizer = tf.train.GradientDescentOptimizer(0.001)\n",
      "training = optimizer.minimize(tf.reduce_mean(energy))\n",
      "\n",
      "sess = tf.Session()\n",
      "sess.run(tf.global_variables_initializer())"
     ],
     "language": "python",
     "metadata": {},
     "outputs": [],
     "prompt_number": 6
    },
    {
     "cell_type": "code",
     "collapsed": false,
     "input": [
      "# tf.expand_dims(h,1)\n",
      "# tf.expand_dims\n",
      "\n",
      "\n",
      "convoluted = tf.nn.convolution(v_in, w, 'VALID', strides=[1,1])\n",
      "tf.multiply(convoluted[0,0,:,0], h_in)\n",
      "\n",
      "energy"
     ],
     "language": "python",
     "metadata": {},
     "outputs": [
      {
       "metadata": {},
       "output_type": "pyout",
       "prompt_number": 7,
       "text": [
        "(<tf.Tensor 'sub:0' shape=(1,) dtype=float32>,\n",
        " <tf.Tensor 'mul_3:0' shape=(1,) dtype=float32>)"
       ]
      }
     ],
     "prompt_number": 7
    },
    {
     "cell_type": "code",
     "collapsed": false,
     "input": [
      "h_in_sample = np.random.random_sample(h_in.get_shape().as_list())\n",
      "v_in_sample = np.random.random_sample(v_in.get_shape().as_list())\n",
      "# sess.run(energy, feed_dict={h_in: h_in_sample, v_in: v_in_sample})\n",
      "tik = time.time()\n",
      "print(sess.run(training, feed_dict={h_in: h_in_sample, v_in: v_in_sample}))\n",
      "tok = time.time()\n",
      "print(tok-tik)\n",
      "sess.run(w)\n"
     ],
     "language": "python",
     "metadata": {},
     "outputs": [
      {
       "output_type": "stream",
       "stream": "stdout",
       "text": [
        "None\n",
        "15.7059791088\n"
       ]
      },
      {
       "metadata": {},
       "output_type": "pyout",
       "prompt_number": 18,
       "text": [
        "array([[[[ 1.25048363]],\n",
        "\n",
        "        [[ 1.83239603]],\n",
        "\n",
        "        [[ 0.77557713]],\n",
        "\n",
        "        [[ 1.36190581]],\n",
        "\n",
        "        [[ 2.19516611]]],\n",
        "\n",
        "\n",
        "       [[[ 3.10043025]],\n",
        "\n",
        "        [[ 1.38033533]],\n",
        "\n",
        "        [[ 1.71377504]],\n",
        "\n",
        "        [[ 2.1668067 ]],\n",
        "\n",
        "        [[ 2.84668612]]],\n",
        "\n",
        "\n",
        "       [[[ 0.65986991]],\n",
        "\n",
        "        [[ 0.36266172]],\n",
        "\n",
        "        [[ 2.23273396]],\n",
        "\n",
        "        [[ 2.1795938 ]],\n",
        "\n",
        "        [[ 0.72008991]]]], dtype=float32)"
       ]
      }
     ],
     "prompt_number": 18
    },
    {
     "cell_type": "code",
     "collapsed": false,
     "input": [
      "sess.run(w)[:,:,0,0]"
     ],
     "language": "python",
     "metadata": {},
     "outputs": [
      {
       "metadata": {},
       "output_type": "pyout",
       "prompt_number": 19,
       "text": [
        "array([[ 1.25048363,  1.83239603,  0.77557713,  1.36190581,  2.19516611],\n",
        "       [ 3.10043025,  1.38033533,  1.71377504,  2.1668067 ,  2.84668612],\n",
        "       [ 0.65986991,  0.36266172,  2.23273396,  2.1795938 ,  0.72008991]], dtype=float32)"
       ]
      }
     ],
     "prompt_number": 19
    }
   ],
   "metadata": {}
  }
 ]
}