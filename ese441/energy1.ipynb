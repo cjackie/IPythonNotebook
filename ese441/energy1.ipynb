{
 "metadata": {
  "name": ""
 },
 "nbformat": 3,
 "nbformat_minor": 0,
 "worksheets": [
  {
   "cells": [
    {
     "cell_type": "code",
     "collapsed": false,
     "input": [
      "import tensorflow as tf\n",
      "import matplotlib.pyplot as plt\n",
      "import numpy as np\n",
      "\n",
      "import time as time\n",
      "from scipy import stats\n",
      "\n",
      "%matplotlib inline\n",
      "\n",
      "__reuse = False"
     ],
     "language": "python",
     "metadata": {},
     "outputs": [],
     "prompt_number": 1
    },
    {
     "cell_type": "code",
     "collapsed": false,
     "input": [
      "accel_data = []\n",
      "accel_file = open('data/accelerometer_1.csv', 'r')\n",
      "accel_file.readline()\n",
      "for line in accel_file:\n",
      "    accel_data.append(map(lambda s: float(s), line.split(',')))\n",
      "accel_file.close()\n",
      "accel_raw = np.array(accel_data)[0:100, :] # shrink data for faster prototype\n",
      "time_axis = np.transpose(accel_raw)[3, :]\n",
      "accel_data = np.transpose(accel_raw)[0:3, :]\n",
      "accel_data = np.expand_dims(np.expand_dims(accel_data, 0), 3)\n"
     ],
     "language": "python",
     "metadata": {},
     "outputs": [],
     "prompt_number": 2
    },
    {
     "cell_type": "code",
     "collapsed": false,
     "input": [
      "plt.plot(time_axis, accel_data[0,0,:,0])\n",
      "accel_data.shape"
     ],
     "language": "python",
     "metadata": {},
     "outputs": [
      {
       "metadata": {},
       "output_type": "pyout",
       "prompt_number": 3,
       "text": [
        "(1, 3, 100, 1)"
       ]
      },
      {
       "metadata": {},
       "output_type": "display_data",
       "png": "[encoded data removed]",
       "text": [
        "<matplotlib.figure.Figure at 0x7f7a1c54bb10>"
       ]
      }
     ],
     "prompt_number": 3
    },
    {
     "cell_type": "code",
     "collapsed": false,
     "input": [
      "def gen_h(v):\n",
      "    h = np.zeros(h_shape)\n",
      "    convoluted = sess.run(tf.nn.convolution(v, w, 'VALID', strides=[1,1]) + hb)\n",
      "    for i in range(convoluted.shape[3]):\n",
      "        for j in range(convoluted.shape[2]/pooling_size):\n",
      "            convoluted_j = convoluted[0,0,j*pooling_size:(j+1)*pooling_size,i]\n",
      "            prob_not_normalized = np.power(np.e, np.concatenate((convoluted_j, [1]), axis=0))\n",
      "            prob = prob_not_normalized / sum(prob_not_normalized)\n",
      "            h_j = stats.rv_discrete(values=(range(len(prob)), prob)).rvs()\n",
      "            if h_j == pooling_size:\n",
      "                # none of h_real[j*pooling_size:j*(pooling_size+1),i] be 1\n",
      "                pass\n",
      "            else:\n",
      "                h[j*pooling_size+h_j,i] = 1\n",
      "    return h\n",
      "\n",
      "def gen_v(h):\n",
      "    v = np.zeros(v_shape)\n",
      "    # convolution related to reconstruction\n",
      "    h_rec_in_fitted = tf.expand_dims(tf.expand_dims(tf.expand_dims(h, 0), 0), -1)\n",
      "    h_rec_in_fitted = tf.pad(h_rec_in_fitted, [[0,0],[axis_num-1, axis_num-1],[filter_width-1,filter_width-1],[0,0], [0,0]])\n",
      "    w_r_fitted = tf.expand_dims(tf.expand_dims(tf.squeeze(w_r), -1), -1)\n",
      "    convolution_rec_raw = sess.run(tf.nn.convolution(h_rec_in_fitted, w_r_fitted, 'VALID', strides=[1,1,1]))\n",
      "    convolution_rec_ = convolution_rec_raw[:,:,:,:,0] # same shape as `accel_data`\n",
      "    vb_ = sess.run(vb)\n",
      "    for i0 in range(v_fantasy_in.get_shape()[0]):\n",
      "        for i1 in range(v_fantasy_in.get_shape()[1]):\n",
      "            for i2 in range(v_fantasy_in.get_shape()[2]):\n",
      "                for i3 in range(v_fantasy_in.get_shape()[3]):\n",
      "                    mean = convolution_rec_[i0,i1,i2,i3] + vb_\n",
      "                    v[i0,i1,i2,i3] = stats.norm.rvs(mean,sigma)\n",
      "    return v"
     ],
     "language": "python",
     "metadata": {},
     "outputs": [],
     "prompt_number": 4
    },
    {
     "cell_type": "code",
     "collapsed": false,
     "input": [
      "filter_width = 5\n",
      "pooling_size = 4\n",
      "k = 50\n",
      "v_len = accel_data.shape[2]\n",
      "axis_num = accel_data.shape[1]\n",
      "h_shape = [v_len-filter_width+1, k]\n",
      "v_shape = list(accel_data.shape)\n",
      "with tf.variable_scope('crbm') as crbm_scope:\n",
      "    if __reuse:\n",
      "        crbm_scope.reuse_variables()\n",
      "    else:\n",
      "        __reuse = True\n",
      "        \n",
      "    w = tf.get_variable('weights', shape=(axis_num, filter_width, 1, k), dtype=tf.float32, \n",
      "                        initializer=tf.random_normal_initializer())\n",
      "    w_r = tf.reverse_v2(w, [0,1])\n",
      "    hb = tf.get_variable('hidden_biase', shape=(k,), dtype=tf.float32,\n",
      "                         initializer=tf.random_normal_initializer())\n",
      "    vb = tf.get_variable('visible_biase', shape=(1,), dtype=tf.float32,\n",
      "                         initializer=tf.random_normal_initializer())\n",
      "h_real_in = tf.placeholder(tf.float32, shape=[v_len-filter_width+1, k]) # after full convolution\n",
      "v_real_in = tf.placeholder(tf.float32, shape=accel_data.shape)\n",
      "convolution_real = tf.nn.convolution(v_real_in, w, 'VALID', strides=[1,1])\n",
      "energy_real = -tf.reduce_sum(h_real_in*convolution_real[0,0,:,:]) \\\n",
      "                - tf.reduce_sum(hb*tf.reduce_sum(h_real_in, axis=0)) \\\n",
      "                - tf.reduce_sum(vb*tf.reduce_sum(v_real_in, axis=0))\n",
      "    \n",
      "h_fantasy_in = tf.placeholder(tf.float32, shape=[v_len-filter_width+1, k]) # after full convolution\n",
      "v_fantasy_in = tf.placeholder(tf.float32, shape=accel_data.shape)\n",
      "convolution_fantasy = tf.nn.convolution(v_fantasy_in, w, 'VALID', strides=[1,1])\n",
      "energy_fantasy = -tf.reduce_sum(h_fantasy_in*convolution_fantasy[0,0,:,:]) \\\n",
      "                    - tf.reduce_sum(hb*tf.reduce_sum(h_fantasy_in, axis=0)) \\\n",
      "                    - tf.reduce_sum(vb*tf.reduce_sum(v_fantasy_in, axis=0))\n",
      "        \n",
      "# regularization\n",
      "reg = tf.reduce_mean(tf.nn.sigmoid(convolution_real[0,0,:,:] + hb))\n",
      "\n",
      "loss = tf.reduce_mean(energy_real - energy_fantasy) + reg\n",
      "optimizer = tf.train.GradientDescentOptimizer(0.001)\n",
      "training = optimizer.minimize(loss)\n",
      "\n",
      "# convolution related to reconstruction\n",
      "h_rec_in = tf.placeholder(tf.float32, shape=[v_len-filter_width+1, k])\n",
      "h_rec_in_fitted = tf.expand_dims(tf.expand_dims(tf.expand_dims(h_rec_in, 0), 0), -1)\n",
      "h_rec_in_fitted = tf.pad(h_rec_in_fitted, [[0,0],[axis_num-1, axis_num-1],[filter_width-1,filter_width-1],[0,0], [0,0]])\n",
      "w_r_fitted = tf.expand_dims(tf.expand_dims(tf.squeeze(w_r), -1), -1)\n",
      "convolution_rec = tf.nn.convolution(h_rec_in_fitted, w_r_fitted, 'VALID', strides=[1,1,1])\n",
      "\n",
      "sess = tf.Session()\n",
      "sess.run(tf.global_variables_initializer())"
     ],
     "language": "python",
     "metadata": {},
     "outputs": [],
     "prompt_number": 7
    },
    {
     "cell_type": "code",
     "collapsed": false,
     "input": [
      "training_num = 100\n",
      "for _ in range(training_num):\n",
      "    # gibbs sampling\n",
      "    sigma = 2\n",
      "    v_real = accel_data.copy()\n",
      "    h_real = np.zeros(h_fantasy_in.get_shape().as_list())\n",
      "    convoluted = sess.run(convolution_real+hb, feed_dict={ v_real_in: v_real })\n",
      "    for i in range(convoluted.shape[3]):\n",
      "        for j in range(convoluted.shape[2]/pooling_size):\n",
      "            convoluted_j = convoluted[0,0,j*pooling_size:(j+1)*pooling_size,i]\n",
      "            prob_not_normalized = np.power(np.e, np.concatenate((convoluted_j, [1]), axis=0))\n",
      "            prob = prob_not_normalized / sum(prob_not_normalized)\n",
      "            h_j = stats.rv_discrete(values=(range(len(prob)), prob)).rvs()\n",
      "            if h_j == pooling_size:\n",
      "                # none of h_real[j*pooling_size:j*(pooling_size+1),i] be 1\n",
      "                pass\n",
      "            else:\n",
      "                h_real[j*pooling_size+h_j,i] = 1\n",
      "            \n",
      "    v_fantasy = np.zeros(v_fantasy_in.get_shape().as_list())\n",
      "    #convolution related to reconstruction\n",
      "    convolution_rec_raw = sess.run(convolution_rec, feed_dict={h_rec_in: h_real})\n",
      "    convolution_rec_ = convolution_rec_raw[:,:,:,:,0] # same shape as `accel_data`\n",
      "    for i0 in range(v_fantasy_in.get_shape()[0]):\n",
      "        for i1 in range(v_fantasy_in.get_shape()[1]):\n",
      "            for i2 in range(v_fantasy_in.get_shape()[2]):\n",
      "                for i3 in range(v_fantasy_in.get_shape()[3]):\n",
      "                    mean = convolution_rec_[i0,i1,i2,i3] + sess.run(vb)\n",
      "                    v_fantasy[i0,i1,i2,i3] = stats.norm.rvs(mean,sigma)\n",
      "    h_fantasy = gen_h(tf.convert_to_tensor(v_fantasy, tf.float32))\n",
      "\n",
      "\n",
      "    # training\n",
      "    feed_dict={\n",
      "        h_real_in: h_real, \n",
      "        v_real_in: v_real,\n",
      "        h_fantasy_in: h_fantasy,\n",
      "        v_fantasy_in: v_fantasy\n",
      "    }\n",
      "    sess.run(training, feed_dict=feed_dict)\n",
      "    print(str(sess.run(loss, feed_dict=feed_dict)) + ',' + str(sess.run(reg, feed_dict=feed_dict)))\n",
      "\n",
      " \n"
     ],
     "language": "python",
     "metadata": {},
     "outputs": [
      {
       "output_type": "stream",
       "stream": "stdout",
       "text": [
        "23206.7,0.489689\n",
        "16746.2,0.469053"
       ]
      },
      {
       "output_type": "stream",
       "stream": "stdout",
       "text": [
        "\n",
        "14100.4,0.45548"
       ]
      },
      {
       "output_type": "stream",
       "stream": "stdout",
       "text": [
        "\n",
        "10489.5,0.447316"
       ]
      },
      {
       "output_type": "stream",
       "stream": "stdout",
       "text": [
        "\n",
        "8637.01,0.436016"
       ]
      },
      {
       "output_type": "stream",
       "stream": "stdout",
       "text": [
        "\n",
        "7450.93,0.428767"
       ]
      },
      {
       "output_type": "stream",
       "stream": "stdout",
       "text": [
        "\n",
        "6141.14,0.424089"
       ]
      },
      {
       "output_type": "stream",
       "stream": "stdout",
       "text": [
        "\n",
        "5019.24,0.423424"
       ]
      },
      {
       "output_type": "stream",
       "stream": "stdout",
       "text": [
        "\n",
        "4575.31,0.423114"
       ]
      },
      {
       "output_type": "stream",
       "stream": "stdout",
       "text": [
        "\n",
        "4238.71,0.423394"
       ]
      },
      {
       "output_type": "stream",
       "stream": "stdout",
       "text": [
        "\n",
        "4531.56,0.423303"
       ]
      },
      {
       "output_type": "stream",
       "stream": "stdout",
       "text": [
        "\n",
        "3689.48,0.422433"
       ]
      },
      {
       "output_type": "stream",
       "stream": "stdout",
       "text": [
        "\n",
        "3993.39,0.42204"
       ]
      },
      {
       "output_type": "stream",
       "stream": "stdout",
       "text": [
        "\n",
        "3515.01,0.421488"
       ]
      },
      {
       "output_type": "stream",
       "stream": "stdout",
       "text": [
        "\n",
        "2708.09,0.42192"
       ]
      },
      {
       "output_type": "stream",
       "stream": "stdout",
       "text": [
        "\n",
        "2719.25,0.422151"
       ]
      },
      {
       "output_type": "stream",
       "stream": "stdout",
       "text": [
        "\n",
        "3125.52,0.421041"
       ]
      },
      {
       "output_type": "stream",
       "stream": "stdout",
       "text": [
        "\n",
        "2529.61,0.4216"
       ]
      },
      {
       "output_type": "stream",
       "stream": "stdout",
       "text": [
        "\n",
        "2539.65,0.418979"
       ]
      },
      {
       "output_type": "stream",
       "stream": "stdout",
       "text": [
        "\n",
        "1764.82,0.420118"
       ]
      },
      {
       "output_type": "stream",
       "stream": "stdout",
       "text": [
        "\n",
        "1912.15,0.422227"
       ]
      },
      {
       "output_type": "stream",
       "stream": "stdout",
       "text": [
        "\n",
        "2218.79,0.423189"
       ]
      },
      {
       "output_type": "stream",
       "stream": "stdout",
       "text": [
        "\n",
        "1972.68,0.423887"
       ]
      },
      {
       "output_type": "stream",
       "stream": "stdout",
       "text": [
        "\n",
        "1364.61,0.424435"
       ]
      },
      {
       "output_type": "stream",
       "stream": "stdout",
       "text": [
        "\n",
        "1644.54,0.425217"
       ]
      },
      {
       "output_type": "stream",
       "stream": "stdout",
       "text": [
        "\n",
        "1812.67,0.424651"
       ]
      },
      {
       "output_type": "stream",
       "stream": "stdout",
       "text": [
        "\n",
        "1595.13,0.423628"
       ]
      },
      {
       "output_type": "stream",
       "stream": "stdout",
       "text": [
        "\n",
        "1063.83,0.423925"
       ]
      },
      {
       "output_type": "stream",
       "stream": "stdout",
       "text": [
        "\n",
        "1480.56,0.423075"
       ]
      },
      {
       "output_type": "stream",
       "stream": "stdout",
       "text": [
        "\n",
        "1385.71,0.42242"
       ]
      },
      {
       "output_type": "stream",
       "stream": "stdout",
       "text": [
        "\n",
        "976.934,0.422707"
       ]
      },
      {
       "output_type": "stream",
       "stream": "stdout",
       "text": [
        "\n",
        "1088.59,0.421337"
       ]
      },
      {
       "output_type": "stream",
       "stream": "stdout",
       "text": [
        "\n",
        "734.701,0.423476"
       ]
      },
      {
       "output_type": "stream",
       "stream": "stdout",
       "text": [
        "\n",
        "1035.53,0.423614"
       ]
      },
      {
       "output_type": "stream",
       "stream": "stdout",
       "text": [
        "\n",
        "1225.12,0.420275"
       ]
      },
      {
       "output_type": "stream",
       "stream": "stdout",
       "text": [
        "\n",
        "1020.55,0.417849"
       ]
      },
      {
       "output_type": "stream",
       "stream": "stdout",
       "text": [
        "\n",
        "1012.66,0.423582"
       ]
      },
      {
       "output_type": "stream",
       "stream": "stdout",
       "text": [
        "\n",
        "318.001,0.423706"
       ]
      },
      {
       "output_type": "stream",
       "stream": "stdout",
       "text": [
        "\n",
        "651.378,0.424702"
       ]
      },
      {
       "output_type": "stream",
       "stream": "stdout",
       "text": [
        "\n",
        "1096.34,0.423221"
       ]
      },
      {
       "output_type": "stream",
       "stream": "stdout",
       "text": [
        "\n",
        "261.024,0.424116"
       ]
      },
      {
       "output_type": "stream",
       "stream": "stdout",
       "text": [
        "\n",
        "517.652,0.424757"
       ]
      },
      {
       "output_type": "stream",
       "stream": "stdout",
       "text": [
        "\n",
        "541.447,0.424208"
       ]
      },
      {
       "output_type": "stream",
       "stream": "stdout",
       "text": [
        "\n",
        "241.574,0.425656"
       ]
      },
      {
       "output_type": "stream",
       "stream": "stdout",
       "text": [
        "\n",
        "441.487,0.425057"
       ]
      },
      {
       "output_type": "stream",
       "stream": "stdout",
       "text": [
        "\n",
        "442.097,0.424666"
       ]
      },
      {
       "output_type": "stream",
       "stream": "stdout",
       "text": [
        "\n",
        "465.797,0.426607"
       ]
      },
      {
       "output_type": "stream",
       "stream": "stdout",
       "text": [
        "\n",
        "-46.8745,0.42721"
       ]
      },
      {
       "output_type": "stream",
       "stream": "stdout",
       "text": [
        "\n",
        "925.303,0.427107"
       ]
      },
      {
       "output_type": "stream",
       "stream": "stdout",
       "text": [
        "\n",
        "497.468,0.426667"
       ]
      },
      {
       "output_type": "stream",
       "stream": "stdout",
       "text": [
        "\n",
        "-73.9557,0.428059"
       ]
      },
      {
       "output_type": "stream",
       "stream": "stdout",
       "text": [
        "\n",
        "1030.46,0.427054"
       ]
      },
      {
       "output_type": "stream",
       "stream": "stdout",
       "text": [
        "\n",
        "278.748,0.426744"
       ]
      },
      {
       "output_type": "stream",
       "stream": "stdout",
       "text": [
        "\n",
        "401.584,0.426562"
       ]
      },
      {
       "output_type": "stream",
       "stream": "stdout",
       "text": [
        "\n",
        "738.788,0.425067"
       ]
      },
      {
       "output_type": "stream",
       "stream": "stdout",
       "text": [
        "\n",
        "52.3719,0.425569"
       ]
      },
      {
       "output_type": "stream",
       "stream": "stdout",
       "text": [
        "\n",
        "392.32,0.42588"
       ]
      },
      {
       "output_type": "stream",
       "stream": "stdout",
       "text": [
        "\n",
        "432.52,0.426453"
       ]
      },
      {
       "output_type": "stream",
       "stream": "stdout",
       "text": [
        "\n",
        "-18.2255,0.426834"
       ]
      },
      {
       "output_type": "stream",
       "stream": "stdout",
       "text": [
        "\n",
        "317.037,0.424314"
       ]
      },
      {
       "output_type": "stream",
       "stream": "stdout",
       "text": [
        "\n",
        "173.523,0.426257"
       ]
      },
      {
       "output_type": "stream",
       "stream": "stdout",
       "text": [
        "\n",
        "336.854,0.424714"
       ]
      },
      {
       "output_type": "stream",
       "stream": "stdout",
       "text": [
        "\n",
        "19.6648,0.425565"
       ]
      },
      {
       "output_type": "stream",
       "stream": "stdout",
       "text": [
        "\n",
        "599.255,0.423217"
       ]
      },
      {
       "output_type": "stream",
       "stream": "stdout",
       "text": [
        "\n",
        "183.314,0.425655"
       ]
      },
      {
       "output_type": "stream",
       "stream": "stdout",
       "text": [
        "\n",
        "-32.2766,0.426545"
       ]
      },
      {
       "output_type": "stream",
       "stream": "stdout",
       "text": [
        "\n",
        "-193.075,0.427636"
       ]
      },
      {
       "output_type": "stream",
       "stream": "stdout",
       "text": [
        "\n",
        "278.587,0.426712"
       ]
      },
      {
       "output_type": "stream",
       "stream": "stdout",
       "text": [
        "\n",
        "399.793,0.426308"
       ]
      },
      {
       "output_type": "stream",
       "stream": "stdout",
       "text": [
        "\n",
        "33.3277,0.427297"
       ]
      },
      {
       "output_type": "stream",
       "stream": "stdout",
       "text": [
        "\n",
        "353.524,0.424994"
       ]
      },
      {
       "output_type": "stream",
       "stream": "stdout",
       "text": [
        "\n",
        "279.906,0.424285"
       ]
      },
      {
       "output_type": "stream",
       "stream": "stdout",
       "text": [
        "\n",
        "221.089,0.427931"
       ]
      },
      {
       "output_type": "stream",
       "stream": "stdout",
       "text": [
        "\n",
        "476.99,0.428134"
       ]
      },
      {
       "output_type": "stream",
       "stream": "stdout",
       "text": [
        "\n",
        "347.637,0.428039"
       ]
      },
      {
       "output_type": "stream",
       "stream": "stdout",
       "text": [
        "\n",
        "-67.3644,0.429586"
       ]
      },
      {
       "output_type": "stream",
       "stream": "stdout",
       "text": [
        "\n",
        "374.593,0.429314"
       ]
      },
      {
       "output_type": "stream",
       "stream": "stdout",
       "text": [
        "\n",
        "451.192,0.429974"
       ]
      },
      {
       "output_type": "stream",
       "stream": "stdout",
       "text": [
        "\n",
        "-49.384,0.430468"
       ]
      },
      {
       "output_type": "stream",
       "stream": "stdout",
       "text": [
        "\n",
        "369.244,0.430252"
       ]
      },
      {
       "output_type": "stream",
       "stream": "stdout",
       "text": [
        "\n",
        "255.951,0.429707"
       ]
      },
      {
       "output_type": "stream",
       "stream": "stdout",
       "text": [
        "\n",
        "21.5969,0.429864"
       ]
      },
      {
       "output_type": "stream",
       "stream": "stdout",
       "text": [
        "\n",
        "75.295,0.429776"
       ]
      },
      {
       "output_type": "stream",
       "stream": "stdout",
       "text": [
        "\n",
        "32.8204,0.429799"
       ]
      },
      {
       "output_type": "stream",
       "stream": "stdout",
       "text": [
        "\n",
        "239.89,0.429899"
       ]
      },
      {
       "output_type": "stream",
       "stream": "stdout",
       "text": [
        "\n",
        "224.884,0.429732"
       ]
      },
      {
       "output_type": "stream",
       "stream": "stdout",
       "text": [
        "\n",
        "-174.793,0.428921"
       ]
      },
      {
       "output_type": "stream",
       "stream": "stdout",
       "text": [
        "\n",
        "423.874,0.42909"
       ]
      },
      {
       "output_type": "stream",
       "stream": "stdout",
       "text": [
        "\n",
        "468.449,0.427621"
       ]
      },
      {
       "output_type": "stream",
       "stream": "stdout",
       "text": [
        "\n",
        "-70.4161,0.425735"
       ]
      },
      {
       "output_type": "stream",
       "stream": "stdout",
       "text": [
        "\n",
        "-175.11,0.426438"
       ]
      },
      {
       "output_type": "stream",
       "stream": "stdout",
       "text": [
        "\n",
        "126.363,0.425534"
       ]
      },
      {
       "output_type": "stream",
       "stream": "stdout",
       "text": [
        "\n",
        "278.914,0.419848"
       ]
      },
      {
       "output_type": "stream",
       "stream": "stdout",
       "text": [
        "\n",
        "-31.4953,0.420722"
       ]
      },
      {
       "output_type": "stream",
       "stream": "stdout",
       "text": [
        "\n",
        "294.352,0.416933"
       ]
      },
      {
       "output_type": "stream",
       "stream": "stdout",
       "text": [
        "\n",
        "23.1452,0.417689"
       ]
      },
      {
       "output_type": "stream",
       "stream": "stdout",
       "text": [
        "\n",
        "-177.494,0.417821"
       ]
      },
      {
       "output_type": "stream",
       "stream": "stdout",
       "text": [
        "\n",
        "-29.924,0.416815"
       ]
      },
      {
       "output_type": "stream",
       "stream": "stdout",
       "text": [
        "\n",
        "193.484,0.41634"
       ]
      },
      {
       "output_type": "stream",
       "stream": "stdout",
       "text": [
        "\n",
        "95.8681,0.416936"
       ]
      },
      {
       "output_type": "stream",
       "stream": "stdout",
       "text": [
        "\n"
       ]
      }
     ],
     "prompt_number": 10
    },
    {
     "cell_type": "code",
     "collapsed": false,
     "input": [
      "sigma = 0.1\n",
      "\n",
      "d = gen_v(tf.convert_to_tensor(gen_h(tf.convert_to_tensor(accel_data, dtype=tf.float32)), dtype=tf.float32))"
     ],
     "language": "python",
     "metadata": {},
     "outputs": [],
     "prompt_number": 16
    },
    {
     "cell_type": "code",
     "collapsed": false,
     "input": [
      "plt.plot(time_axis, d[0,1,:,0])\n",
      "plt.plot(time_axis, accel_data[0,1,:,0])"
     ],
     "language": "python",
     "metadata": {},
     "outputs": [
      {
       "metadata": {},
       "output_type": "pyout",
       "prompt_number": 17,
       "text": [
        "[<matplotlib.lines.Line2D at 0x7f79e70bd410>]"
       ]
      },
      {
       "metadata": {},
       "output_type": "display_data",
       "png": "[encoded data removed]",
       "text": [
        "<matplotlib.figure.Figure at 0x7f79e736f610>"
       ]
      }
     ],
     "prompt_number": 17
    },
    {
     "cell_type": "code",
     "collapsed": false,
     "input": [
      "convolution_real"
     ],
     "language": "python",
     "metadata": {},
     "outputs": [
      {
       "metadata": {},
       "output_type": "pyout",
       "prompt_number": 7,
       "text": [
        "<tf.Tensor 'convolution:0' shape=(1, 1, 96, 50) dtype=float32>"
       ]
      }
     ],
     "prompt_number": 7
    }
   ],
   "metadata": {}
  }
 ]
}