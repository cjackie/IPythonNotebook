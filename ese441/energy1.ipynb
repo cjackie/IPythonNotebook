{
 "metadata": {
  "name": ""
 },
 "nbformat": 3,
 "nbformat_minor": 0,
 "worksheets": [
  {
   "cells": [
    {
     "cell_type": "code",
     "collapsed": false,
     "input": [
      "import tensorflow as tf\n",
      "import matplotlib.pyplot as plt\n",
      "import numpy as np\n",
      "\n",
      "import time as time\n",
      "from scipy import stats\n",
      "\n",
      "%matplotlib inline\n",
      "\n",
      "__reuse = False"
     ],
     "language": "python",
     "metadata": {},
     "outputs": [],
     "prompt_number": 1
    },
    {
     "cell_type": "code",
     "collapsed": false,
     "input": [
      "accel_data = []\n",
      "accel_file = open('data/accelerometer_1.csv', 'r')\n",
      "accel_file.readline()\n",
      "for line in accel_file:\n",
      "    accel_data.append(map(lambda s: float(s), line.split(',')))\n",
      "accel_file.close()\n",
      "accel_raw = np.array(accel_data)[0:100, :] # shrink data for faster prototype\n",
      "time_axis = np.transpose(accel_raw)[3, :]\n",
      "accel_data = np.transpose(accel_raw)[0:3, :]\n",
      "accel_data = np.expand_dims(np.expand_dims(accel_data, 0), 3)\n"
     ],
     "language": "python",
     "metadata": {},
     "outputs": [],
     "prompt_number": 2
    },
    {
     "cell_type": "code",
     "collapsed": false,
     "input": [
      "plt.plot(time_axis, accel_data[0,0,:,0])\n",
      "accel_data.shape"
     ],
     "language": "python",
     "metadata": {},
     "outputs": [
      {
       "metadata": {},
       "output_type": "pyout",
       "prompt_number": 3,
       "text": [
        "(1, 3, 100, 1)"
       ]
      },
      {
       "metadata": {},
       "output_type": "display_data",
       "png": "[encoded data removed]",
       "text": [
        "<matplotlib.figure.Figure at 0x7fd98850e9d0>"
       ]
      }
     ],
     "prompt_number": 3
    },
    {
     "cell_type": "code",
     "collapsed": false,
     "input": [
      "filter_width = 5\n",
      "k = 2\n",
      "v_len = accel_data.shape[2]\n",
      "axis_num = accel_data.shape[1]\n",
      "with tf.variable_scope('crbm') as crbm_scope:\n",
      "    if __reuse:\n",
      "        crbm_scope.reuse_variables()\n",
      "    else:\n",
      "        __reuse = True\n",
      "        \n",
      "    w = tf.get_variable('weights', shape=(3, filter_width, 1, k), dtype=tf.float32, \n",
      "                        initializer=tf.random_normal_initializer())\n",
      "    w_r = tf.reverse_v2(w, [0,1])\n",
      "    hb = tf.get_variable('hidden_biase', shape=(k,), dtype=tf.float32,\n",
      "                         initializer=tf.random_normal_initializer())\n",
      "    vb = tf.get_variable('visible_biase', shape=(1,), dtype=tf.float32,\n",
      "                         initializer=tf.random_normal_initializer())\n",
      "h_real_in = tf.placeholder(tf.float32, shape=[v_len-filter_width+1, k]) # after full convolution\n",
      "v_real_in = tf.placeholder(tf.float32, shape=accel_data.shape)\n",
      "convolution_real = tf.nn.convolution(v_real_in, w, 'VALID', strides=[1,1])\n",
      "energy_real = -tf.reduce_sum(h_real_in*convolution_real[0,0,:,:]) \\\n",
      "                - tf.reduce_sum(hb*tf.reduce_sum(h_real_in, axis=0)) \\\n",
      "                - tf.reduce_sum(vb*tf.reduce_sum(v_real_in, axis=0))\n",
      "    \n",
      "h_fantasy_in = tf.placeholder(tf.float32, shape=[v_len-filter_width+1, k]) # after full convolution\n",
      "v_fantasy_in = tf.placeholder(tf.float32, shape=accel_data.shape)\n",
      "convolution_fantasy = tf.nn.convolution(v_fantasy_in, w, 'VALID', strides=[1,1])\n",
      "energy_fantasy = -tf.reduce_sum(h_fantasy_in*convolution_fantasy[0,0,:,:]) \\\n",
      "                    - tf.reduce_sum(hb*tf.reduce_sum(h_fantasy_in, axis=0)) \\\n",
      "                    - tf.reduce_sum(vb*tf.reduce_sum(v_fantasy_in, axis=0))\n",
      "    \n",
      "loss = tf.reduce_mean(energy_real - energy_fantasy)\n",
      "optimizer = tf.train.GradientDescentOptimizer(0.001)\n",
      "training = optimizer.minimize(loss)\n",
      "\n",
      "# convolution related to reconstruction\n",
      "h_rec_in = tf.placeholder(tf.float32, shape=[v_len-filter_width+1, k])\n",
      "h_rec_in_fitted = tf.expand_dims(tf.expand_dims(tf.expand_dims(h_rec_in, 0), 0), -1)\n",
      "h_rec_in_fitted = tf.pad(h_rec_in_fitted, [[0,0],[axis_num-1, axis_num-1],[filter_width-1,filter_width-1],[0,0], [0,0]])\n",
      "w_r_fitted = tf.expand_dims(tf.expand_dims(tf.squeeze(w_r), -1), -1)\n",
      "convolution_rec = tf.nn.convolution(h_rec_in_fitted, w_r_fitted, 'VALID', strides=[1,1,1])\n",
      "\n",
      "sess = tf.Session()\n",
      "sess.run(tf.global_variables_initializer())"
     ],
     "language": "python",
     "metadata": {},
     "outputs": [],
     "prompt_number": 6
    },
    {
     "cell_type": "code",
     "collapsed": false,
     "input": [
      "# probabilties\n",
      "sigma = 2\n",
      "pooling_size = 4\n",
      "v_real = accel_data.copy()\n",
      "h_real = np.zeros(h_fantasy_in.get_shape().as_list())\n",
      "convoluted = sess.run(convolution_real+hb, feed_dict={ v_real_in: v_real })\n",
      "for i in range(convoluted.shape[3]):\n",
      "    for j in range(convoluted.shape[2]/pooling_size):\n",
      "        convoluted_j = convoluted[0,0,j*pooling_size:(j+1)*pooling_size,i]\n",
      "        prob_not_normalized = np.power(np.e, np.concatenate((convoluted_j, [1]), axis=0))\n",
      "        prob = prob_not_normalized / sum(prob_not_normalized)\n",
      "        h_j = stats.rv_discrete(values=(range(len(prob)), prob)).rvs()\n",
      "        if h_j == pooling_size:\n",
      "            # none of h_real[j*pooling_size:j*(pooling_size+1),i] be 1\n",
      "            pass\n",
      "        else:\n",
      "            h_real[j*pooling_size+h_j,i] = 1\n",
      "            \n",
      "v_fantasy = np.zeros(v_fantasy_in.get_shape().as_list())\n",
      "#convolution related to reconstruction\n",
      "convolution_rec_raw = sess.run(convolution_rec, feed_dict={h_rec_in: h_real})\n",
      "convolution_rec = convolution_rec_raw[:,:,:,:,0] # same shape as `accel_data`\n",
      "for i0 in range(v_fantasy_in.get_shape()[0]):\n",
      "    for i1 in range(v_fantasy_in.get_shape()[1]):\n",
      "        for i2 in range(v_fantasy_in.get_shape()[2]):\n",
      "            for i3 in range(v_fantasy_in.get_shape()[3]):\n",
      "                mean = convolution_rec[i0,i1,i2,i3] + sess.run(vb)\n",
      "                v_fantasy[i0,i1,i2,i3] = stats.norm.rvs(mean,sigma)\n",
      "                \n",
      "\n",
      "\n",
      "\n",
      "\n",
      " \n"
     ],
     "language": "python",
     "metadata": {},
     "outputs": [],
     "prompt_number": 21
    },
    {
     "cell_type": "code",
     "collapsed": false,
     "input": [
      "h_real_in_sample = np.random.random_sample(h_real_in.get_shape().as_list())\n",
      "v_real_in_sample = np.random.random_sample(v_real_in.get_shape().as_list())\n",
      "h_fantasy_in_sample = np.random.random_sample(h_fantasy_in.get_shape().as_list())\n",
      "v_fantasy_in_sample = np.random.random_sample(v_fantasy_in.get_shape().as_list())\n",
      "# sess.run(energy, feed_dict={h_in: h_in_sample, v_in: v_in_sample})\n",
      "tik = time.time()\n",
      "feed_dict={\n",
      "    h_real_in: h_real_in_sample, \n",
      "    v_real_in: v_real_in_sample,\n",
      "    h_fantasy_in: h_fantasy_in_sample,\n",
      "    v_fantasy_in: v_fantasy_in_sample\n",
      "}\n",
      "print(sess.run(training, feed_dict=feed_dict))\n",
      "tok = time.time()\n",
      "print(tok-tik)\n",
      "# sess.run(convolution_real+vb, feed_dict=feed_dict)\n",
      "\n",
      "\n"
     ],
     "language": "python",
     "metadata": {},
     "outputs": [
      {
       "output_type": "stream",
       "stream": "stdout",
       "text": [
        "None\n",
        "0.0014009475708\n"
       ]
      }
     ],
     "prompt_number": 134
    },
    {
     "cell_type": "code",
     "collapsed": false,
     "input": [
      "#convolution related to reconstruction\n",
      "h_rec_in = tf.placeholder(tf.float32, shape=[v_len-filter_width+1, k])\n",
      "h_rec_in_fitted = tf.expand_dims(tf.expand_dims(tf.expand_dims(h_rec_in, 0), 0), -1)\n",
      "h_rec_in_fitted = tf.pad(h_rec_in_fitted, [[0,0],[axis_num-1, axis_num-1],[filter_width-1,filter_width-1],[0,0], [0,0]])\n",
      "w_r_fitted = tf.expand_dims(tf.expand_dims(tf.squeeze(w_r), -1), -1)\n",
      "convolution_rec_raw = tf.nn.convolution(h_rec_in_fitted, w_r_fitted, 'VALID', strides=[1,1,1])\n",
      "convolution_rec = convolution_rec_raw[:,:,:,:,0]"
     ],
     "language": "python",
     "metadata": {},
     "outputs": [],
     "prompt_number": 154
    },
    {
     "cell_type": "code",
     "collapsed": false,
     "input": [
      "plt.plot(time_axis, v_fantasy[0,0,:,0])"
     ],
     "language": "python",
     "metadata": {},
     "outputs": [
      {
       "metadata": {},
       "output_type": "pyout",
       "prompt_number": 24,
       "text": [
        "[<matplotlib.lines.Line2D at 0x7fd94bbbb1d0>]"
       ]
      },
      {
       "metadata": {},
       "output_type": "display_data",
       "png": "[encoded data removed]",
       "text": [
        "<matplotlib.figure.Figure at 0x7fd95c68e150>"
       ]
      }
     ],
     "prompt_number": 24
    }
   ],
   "metadata": {}
  }
 ]
}