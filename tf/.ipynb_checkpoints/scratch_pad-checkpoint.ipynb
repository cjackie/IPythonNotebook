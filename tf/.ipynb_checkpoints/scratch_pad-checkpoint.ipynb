{
 "metadata": {
  "name": ""
 },
 "nbformat": 3,
 "nbformat_minor": 0,
 "worksheets": [
  {
   "cells": [
    {
     "cell_type": "code",
     "collapsed": false,
     "input": [
      "import tensorflow as tf\n",
      "import numpy as np\n",
      "\n",
      "import os\n",
      "\n",
      "__resue = False"
     ],
     "language": "python",
     "metadata": {},
     "outputs": [],
     "prompt_number": 1
    },
    {
     "cell_type": "code",
     "collapsed": false,
     "input": [
      "sess = tf.Session()\n",
      "verbose = True"
     ],
     "language": "python",
     "metadata": {},
     "outputs": [],
     "prompt_number": 2
    },
    {
     "cell_type": "code",
     "collapsed": false,
     "input": [
      "# a model: shape [1] -> shape [2].\n",
      "\n",
      "input_num = 1\n",
      "input_size = 2\n",
      "out_size = 1\n",
      "hn = 10\n",
      "input_in = tf.placeholder(tf.float32, shape=[input_num, input_size])\n",
      "out_in = tf.placeholder(tf.float32, shape=[input_num,out_size])\n",
      "# hidden layer 1\n",
      "with tf.variable_scope('hidden') as scope:\n",
      "    if __resue:\n",
      "        scope.reuse_variables()\n",
      "    hw = tf.get_variable('weights', shape=[input_size, hn], \n",
      "                dtype=tf.float32, initializer=tf.random_normal_initializer())\n",
      "    hidden = tf.nn.sigmoid(tf.matmul(input_in, hw))\n",
      "# output layer\n",
      "with tf.variable_scope('linear_output'):\n",
      "    if __resue:\n",
      "        scope.reuse_variables()\n",
      "    lw = tf.get_variable('weights', shape=[hn, out_size],\n",
      "                dtype=tf.float32, initializer=tf.random_normal_initializer())\n",
      "    out = tf.matmul(hidden,lw)\n",
      "\n",
      "__resue = True\n",
      "sess.run(tf.global_variables_initializer())"
     ],
     "language": "python",
     "metadata": {},
     "outputs": [],
     "prompt_number": 3
    },
    {
     "cell_type": "code",
     "collapsed": false,
     "input": [
      "\n",
      "loss = tf.reduce_mean(tf.square(tf.subtract(out, out_in)))\n",
      "optimizer = tf.train.GradientDescentOptimizer(0.00000001)\n",
      "training = optimizer.minimize(loss)"
     ],
     "language": "python",
     "metadata": {},
     "outputs": [],
     "prompt_number": 4
    },
    {
     "cell_type": "code",
     "collapsed": false,
     "input": [
      "# summaries\n",
      "tf.summary.scalar('loss_summary', loss)\n",
      "merged_summary = tf.summary.merge_all()\n",
      "summary_file = tf.summary.FileWriter('./summaries', sess.graph, flush_secs=10)"
     ],
     "language": "python",
     "metadata": {},
     "outputs": [],
     "prompt_number": 5
    },
    {
     "cell_type": "code",
     "collapsed": false,
     "input": [
      "# params saver\n",
      "saved_path = './saved_variables/params'\n",
      "params = tf.train.Saver(var_list=[lw, hw])\n",
      "try:\n",
      "    params.restore(sess, saved_dir)\n",
      "except Exception as e:\n",
      "    pass # poor way of silencing restore from empty \n",
      "finally:\n",
      "    pass"
     ],
     "language": "python",
     "metadata": {},
     "outputs": [],
     "prompt_number": 6
    },
    {
     "cell_type": "code",
     "collapsed": false,
     "input": [
      "steps = 100\n",
      "for s in range(steps):\n",
      "    thetas = np.random.rand(input_size, out_size)\n",
      "    x1 = 100*np.random.rand(input_num, input_size)\n",
      "    y1 = np.matmul(x1, thetas)\n",
      "\n",
      "    feed_dict = {\n",
      "        input_in: x1,\n",
      "        out_in: y1\n",
      "    }\n",
      "    summary, _ = sess.run([merged_summary,training], feed_dict=feed_dict) # summaries\n",
      "    summary_file.add_summary(summary, s)                                  # summaries\n",
      "saved_instance = params.save(sess, saved_path, global_step=steps)                # save variable\n",
      "saved_instance"
     ],
     "language": "python",
     "metadata": {},
     "outputs": [
      {
       "metadata": {},
       "output_type": "pyout",
       "prompt_number": 19,
       "text": [
        "'./saved_variables/params-100'"
       ]
      }
     ],
     "prompt_number": 19
    },
    {
     "cell_type": "code",
     "collapsed": false,
     "input": [
      "params.restore(sess, saved_instance)\n"
     ],
     "language": "python",
     "metadata": {},
     "outputs": [],
     "prompt_number": 20
    },
    {
     "cell_type": "code",
     "collapsed": false,
     "input": [
      "sess.run(lw)"
     ],
     "language": "python",
     "metadata": {},
     "outputs": [
      {
       "metadata": {},
       "output_type": "pyout",
       "prompt_number": 21,
       "text": [
        "array([[ 0.642905  ],\n",
        "       [-1.69243073],\n",
        "       [-1.07786226],\n",
        "       [-2.19609547],\n",
        "       [ 1.06282723],\n",
        "       [-2.33598089],\n",
        "       [ 0.42005897],\n",
        "       [ 1.35594201],\n",
        "       [ 0.26567149],\n",
        "       [ 1.27860153]], dtype=float32)"
       ]
      }
     ],
     "prompt_number": 21
    }
   ],
   "metadata": {}
  }
 ]
}