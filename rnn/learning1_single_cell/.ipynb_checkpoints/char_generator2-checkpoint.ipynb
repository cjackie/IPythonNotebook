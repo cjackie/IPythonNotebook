{
 "metadata": {
  "name": ""
 },
 "nbformat": 3,
 "nbformat_minor": 0,
 "worksheets": [
  {
   "cells": [
    {
     "cell_type": "code",
     "collapsed": false,
     "input": [
      "import tensorflow as tf\n",
      "import numpy as np\n",
      "from scipy import stats\n",
      "__verbose__ = False"
     ],
     "language": "python",
     "metadata": {},
     "outputs": [],
     "prompt_number": 2
    },
    {
     "cell_type": "code",
     "collapsed": false,
     "input": [
      "sess = tf.Session()"
     ],
     "language": "python",
     "metadata": {},
     "outputs": [],
     "prompt_number": 3
    },
    {
     "cell_type": "code",
     "collapsed": false,
     "input": [
      "symbol_size = 20\n",
      "batch_size = 1\n",
      "single_cell = tf.nn.rnn_cell.BasicLSTMCell(symbol_size, activation=tf.sigmoid)\n",
      "state = single_cell.zero_state(batch_size, tf.float32)\n",
      "x = tf.placeholder(tf.float32, shape=[batch_size,1], name='x')\n",
      "cell = single_cell(x, state)\n",
      "\n",
      "sess.run(tf.global_variables_initializer()) # init"
     ],
     "language": "python",
     "metadata": {},
     "outputs": [],
     "prompt_number": 4
    },
    {
     "cell_type": "code",
     "collapsed": false,
     "input": [
      "alphabets = [chr(ord('a')+i) for i in  range(26)]\n",
      "alphabets = alphabets[0:symbol_size]\n",
      "seq_n = 10\n",
      "cur_x = alphabets[0]\n",
      "seq = [cur_x]\n",
      "for i in range(seq_n-1):\n",
      "    o = sess.run(cell, feed_dict={ x:[[ord(cur_x)]] })\n",
      "    if __verbose__:\n",
      "        print(\"===== state of the cell =====\")\n",
      "        print(o[1].c)  # print out states\n",
      "        print(\"=============================\")\n",
      "    probabilities = sess.run(tf.nn.softmax(o[0]))\n",
      "    if __verbose__:\n",
      "        print('===== probabilities =====')\n",
      "        print(probabilities)\n",
      "        print('=========================')\n",
      "    index = stats.rv_discrete(values=(range(probabilities.shape[1]), probabilities[0,:])).rvs()\n",
      "    cur_x = alphabets[index]\n",
      "    seq.append(cur_x)\n",
      "print('===== result =====')\n",
      "print(reduce(lambda r, c: r+c, seq, ''))\n",
      "print('==================')\n"
     ],
     "language": "python",
     "metadata": {},
     "outputs": [
      {
       "output_type": "stream",
       "stream": "stdout",
       "text": [
        "===== result =====\n",
        "aitfbpotej\n",
        "==================\n"
       ]
      }
     ],
     "prompt_number": 15
    }
   ],
   "metadata": {}
  }
 ]
}