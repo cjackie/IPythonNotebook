{
 "metadata": {
  "name": ""
 },
 "nbformat": 3,
 "nbformat_minor": 0,
 "worksheets": [
  {
   "cells": [
    {
     "cell_type": "code",
     "collapsed": false,
     "input": [
      "import tensorflow as tf\n",
      "from tensorflow.python.ops import array_ops"
     ],
     "language": "python",
     "metadata": {},
     "outputs": [],
     "prompt_number": 3
    },
    {
     "cell_type": "code",
     "collapsed": false,
     "input": [
      "x = array_ops.zeros([1, 2])\n",
      "m0 = array_ops.zeros([1, 2])\n",
      "m1 = array_ops.zeros([1, 2])\n",
      "m2 = array_ops.zeros([1, 2])\n",
      "m3 = array_ops.zeros([1, 2])\n",
      "tf.nn.rnn_cell.MultiRNNCell(\n",
      "                [tf.nn.rnn_cell.LSTMCell(2)]*2, state_is_tuple=True)(x, (\n",
      "                    (m0, m1), (m2, m3)))"
     ],
     "language": "python",
     "metadata": {},
     "outputs": [
      {
       "metadata": {},
       "output_type": "pyout",
       "prompt_number": 11,
       "text": [
        "(<tf.Tensor 'MultiRNNCell_1/Cell1/LSTMCell/mul_2:0' shape=(1, 2) dtype=float32>,\n",
        " (LSTMStateTuple(c=<tf.Tensor 'MultiRNNCell_1/Cell0/LSTMCell/add_1:0' shape=(1, 2) dtype=float32>, h=<tf.Tensor 'MultiRNNCell_1/Cell0/LSTMCell/mul_2:0' shape=(1, 2) dtype=float32>),\n",
        "  LSTMStateTuple(c=<tf.Tensor 'MultiRNNCell_1/Cell1/LSTMCell/add_1:0' shape=(1, 2) dtype=float32>, h=<tf.Tensor 'MultiRNNCell_1/Cell1/LSTMCell/mul_2:0' shape=(1, 2) dtype=float32>)))"
       ]
      }
     ],
     "prompt_number": 11
    }
   ],
   "metadata": {}
  }
 ]
}