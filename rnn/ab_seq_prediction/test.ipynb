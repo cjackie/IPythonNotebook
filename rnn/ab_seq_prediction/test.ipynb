{
 "metadata": {
  "name": ""
 },
 "nbformat": 3,
 "nbformat_minor": 0,
 "worksheets": [
  {
   "cells": [
    {
     "cell_type": "code",
     "collapsed": false,
     "input": [
      "import tensorflow as tf\n",
      "import numpy as np\n",
      "\n",
      "from ab_seq import ab_seq"
     ],
     "language": "python",
     "metadata": {},
     "outputs": [],
     "prompt_number": 2
    },
    {
     "cell_type": "code",
     "collapsed": false,
     "input": [
      "batch_size, seq_len = 100, 10\n",
      "\n",
      "sess = tf.Session()\n",
      "ab = ab_seq(sess, batch_size=batch_size,seq_len=seq_len, verbose=False)"
     ],
     "language": "python",
     "metadata": {},
     "outputs": [],
     "prompt_number": 3
    },
    {
     "cell_type": "code",
     "collapsed": false,
     "input": [
      "# generate data sequence of ab\n",
      "sequence = []\n",
      "for i in range(batch_size*seq_len):\n",
      "    if i % 2:\n",
      "        sequence.append('a')\n",
      "    else:\n",
      "        sequence.append('b')\n",
      "sequence = map(lambda x: ord(x), sequence)\n",
      "data, labels = np.ones((seq_len, batch_size, 1)), np.ones((batch_size, 2))\n",
      "                       \n",
      "for i in range(batch_size):\n",
      "    a_seq = map(lambda x: [x], sequence[i:i+seq_len])\n",
      "    data[:, i, :] = a_seq\n",
      "    if sequence[i+seq_len] == ord('a'):\n",
      "        labels[i, :] = [1,0]\n",
      "    elif sequence[i+seq_len] == ord('b'):\n",
      "        labels[i, :] = [0,1]\n",
      "    else:\n",
      "        raise Exception(\"d\")\n",
      "data[:,4,:], labels[4,:]"
     ],
     "language": "python",
     "metadata": {},
     "outputs": [
      {
       "metadata": {},
       "output_type": "pyout",
       "prompt_number": 4,
       "text": [
        "(array([[ 98.],\n",
        "       [ 97.],\n",
        "       [ 98.],\n",
        "       [ 97.],\n",
        "       [ 98.],\n",
        "       [ 97.],\n",
        "       [ 98.],\n",
        "       [ 97.],\n",
        "       [ 98.],\n",
        "       [ 97.]]),\n",
        " array([ 0.,  1.]))"
       ]
      }
     ],
     "prompt_number": 4
    },
    {
     "cell_type": "code",
     "collapsed": false,
     "input": [
      "ab.train_model(data, labels)"
     ],
     "language": "python",
     "metadata": {},
     "outputs": [],
     "prompt_number": 10
    },
    {
     "cell_type": "code",
     "collapsed": false,
     "input": [
      "(ab.predict('ababababab'),ab.predict('bababababa'), ab.predict('aaaaaaaaaa'),ab.predict('bbbbbbbbbb'),\n",
      "ab.predict('babaabab'))"
     ],
     "language": "python",
     "metadata": {},
     "outputs": [
      {
       "metadata": {},
       "output_type": "pyout",
       "prompt_number": 11,
       "text": [
        "(array([[ 0.9874227 ,  0.01257727]], dtype=float32),\n",
        " array([[ 0.00730869,  0.99269134]], dtype=float32),\n",
        " array([[ 0.93558705,  0.064413  ]], dtype=float32),\n",
        " array([[ 0.08216186,  0.9178381 ]], dtype=float32),\n",
        " array([[ 0.0474899 ,  0.95251012]], dtype=float32))"
       ]
      }
     ],
     "prompt_number": 11
    },
    {
     "cell_type": "code",
     "collapsed": false,
     "input": [
      "for c in 'ababababababbbbbbbbbbbbbbbbbbbbabababa':\n",
      "    print(c + ' => ' + str(ab.step(c)))"
     ],
     "language": "python",
     "metadata": {},
     "outputs": [
      {
       "output_type": "stream",
       "stream": "stdout",
       "text": [
        "a => [[ 0.00610139  0.99389863]]\n",
        "b => [[ 0.98860443  0.0113956 ]]"
       ]
      },
      {
       "output_type": "stream",
       "stream": "stdout",
       "text": [
        "\n",
        "a => [[ 0.00610079  0.99389923]]"
       ]
      },
      {
       "output_type": "stream",
       "stream": "stdout",
       "text": [
        "\n",
        "b => [[ 0.9886052   0.01139478]]"
       ]
      },
      {
       "output_type": "stream",
       "stream": "stdout",
       "text": [
        "\n",
        "a => [[ 0.00610076  0.99389923]]"
       ]
      },
      {
       "output_type": "stream",
       "stream": "stdout",
       "text": [
        "\n",
        "b => [[ 0.9886052   0.01139473]]"
       ]
      },
      {
       "output_type": "stream",
       "stream": "stdout",
       "text": [
        "\n",
        "a => [[ 0.00610076  0.99389923]]"
       ]
      },
      {
       "output_type": "stream",
       "stream": "stdout",
       "text": [
        "\n",
        "b => [[ 0.9886052   0.01139472]]"
       ]
      },
      {
       "output_type": "stream",
       "stream": "stdout",
       "text": [
        "\n",
        "a => [[ 0.00610076  0.99389923]]"
       ]
      },
      {
       "output_type": "stream",
       "stream": "stdout",
       "text": [
        "\n",
        "b => [[ 0.9886052   0.01139472]]"
       ]
      },
      {
       "output_type": "stream",
       "stream": "stdout",
       "text": [
        "\n",
        "a => [[ 0.00610076  0.99389923]]"
       ]
      },
      {
       "output_type": "stream",
       "stream": "stdout",
       "text": [
        "\n",
        "b => [[ 0.9886052   0.01139472]]"
       ]
      },
      {
       "output_type": "stream",
       "stream": "stdout",
       "text": [
        "\n",
        "b => [[ 0.0061241   0.99387592]]"
       ]
      },
      {
       "output_type": "stream",
       "stream": "stdout",
       "text": [
        "\n",
        "b => [[ 0.98859453  0.0114055 ]]"
       ]
      },
      {
       "output_type": "stream",
       "stream": "stdout",
       "text": [
        "\n",
        "b => [[ 0.00612477  0.99387521]]"
       ]
      },
      {
       "output_type": "stream",
       "stream": "stdout",
       "text": [
        "\n",
        "b => [[ 0.9885937   0.01140633]]"
       ]
      },
      {
       "output_type": "stream",
       "stream": "stdout",
       "text": [
        "\n",
        "b => [[ 0.00612481  0.99387521]]"
       ]
      },
      {
       "output_type": "stream",
       "stream": "stdout",
       "text": [
        "\n",
        "b => [[ 0.98859358  0.01140639]]"
       ]
      },
      {
       "output_type": "stream",
       "stream": "stdout",
       "text": [
        "\n",
        "b => [[ 0.00612481  0.99387521]]"
       ]
      },
      {
       "output_type": "stream",
       "stream": "stdout",
       "text": [
        "\n",
        "b => [[ 0.98859358  0.0114064 ]]"
       ]
      },
      {
       "output_type": "stream",
       "stream": "stdout",
       "text": [
        "\n",
        "b => [[ 0.00612481  0.99387521]]"
       ]
      },
      {
       "output_type": "stream",
       "stream": "stdout",
       "text": [
        "\n",
        "b => [[ 0.98859358  0.0114064 ]]"
       ]
      },
      {
       "output_type": "stream",
       "stream": "stdout",
       "text": [
        "\n",
        "b => [[ 0.00612481  0.99387521]]"
       ]
      },
      {
       "output_type": "stream",
       "stream": "stdout",
       "text": [
        "\n",
        "b => [[ 0.98859358  0.0114064 ]]"
       ]
      },
      {
       "output_type": "stream",
       "stream": "stdout",
       "text": [
        "\n",
        "b => [[ 0.00612481  0.99387521]]"
       ]
      },
      {
       "output_type": "stream",
       "stream": "stdout",
       "text": [
        "\n",
        "b => [[ 0.98859358  0.0114064 ]]"
       ]
      },
      {
       "output_type": "stream",
       "stream": "stdout",
       "text": [
        "\n",
        "b => [[ 0.00612481  0.99387521]]"
       ]
      },
      {
       "output_type": "stream",
       "stream": "stdout",
       "text": [
        "\n",
        "b => [[ 0.98859358  0.0114064 ]]"
       ]
      },
      {
       "output_type": "stream",
       "stream": "stdout",
       "text": [
        "\n",
        "b => [[ 0.00612481  0.99387521]]"
       ]
      },
      {
       "output_type": "stream",
       "stream": "stdout",
       "text": [
        "\n",
        "b => [[ 0.98859358  0.0114064 ]]"
       ]
      },
      {
       "output_type": "stream",
       "stream": "stdout",
       "text": [
        "\n",
        "b => [[ 0.00612481  0.99387521]]"
       ]
      },
      {
       "output_type": "stream",
       "stream": "stdout",
       "text": [
        "\n",
        "a => [[ 0.98858088  0.01141914]]"
       ]
      },
      {
       "output_type": "stream",
       "stream": "stdout",
       "text": [
        "\n",
        "b => [[ 0.00612956  0.99387038]]"
       ]
      },
      {
       "output_type": "stream",
       "stream": "stdout",
       "text": [
        "\n",
        "a => [[ 0.98858076  0.01141918]]"
       ]
      },
      {
       "output_type": "stream",
       "stream": "stdout",
       "text": [
        "\n",
        "b => [[ 0.00612989  0.99387014]]"
       ]
      },
      {
       "output_type": "stream",
       "stream": "stdout",
       "text": [
        "\n",
        "a => [[ 0.98858088  0.01141917]]"
       ]
      },
      {
       "output_type": "stream",
       "stream": "stdout",
       "text": [
        "\n",
        "b => [[ 0.00612991  0.99387002]]"
       ]
      },
      {
       "output_type": "stream",
       "stream": "stdout",
       "text": [
        "\n",
        "a => [[ 0.98858088  0.01141917]]"
       ]
      },
      {
       "output_type": "stream",
       "stream": "stdout",
       "text": [
        "\n"
       ]
      }
     ],
     "prompt_number": 18
    }
   ],
   "metadata": {}
  }
 ]
}